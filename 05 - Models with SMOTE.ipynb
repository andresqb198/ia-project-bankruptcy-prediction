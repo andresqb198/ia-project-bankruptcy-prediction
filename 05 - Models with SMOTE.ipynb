{
 "cells": [
  {
   "cell_type": "markdown",
   "metadata": {},
   "source": [
    "[![Open in Colab](https://colab.research.google.com/assets/colab-badge.svg)](https://colab.research.google.com/github/juanesgutiz19/ia-project-bankruptcy-prediction/blob/master/05%20-%20Models%20with%20SMOTE.ipynb)"
   ]
  },
  {
   "cell_type": "markdown",
   "metadata": {},
   "source": [
    "# Instalaciones necesarias"
   ]
  },
  {
   "cell_type": "code",
   "execution_count": 1,
   "metadata": {},
   "outputs": [
    {
     "name": "stdout",
     "output_type": "stream",
     "text": [
      "Requirement already satisfied: xgboost in c:\\users\\user\\anaconda3\\lib\\site-packages (1.6.2)\n",
      "Requirement already satisfied: numpy in c:\\users\\user\\anaconda3\\lib\\site-packages (from xgboost) (1.21.5)\n",
      "Requirement already satisfied: scipy in c:\\users\\user\\anaconda3\\lib\\site-packages (from xgboost) (1.7.3)\n",
      "Requirement already satisfied: catboost in c:\\users\\user\\anaconda3\\lib\\site-packages (1.0.6)\n",
      "Requirement already satisfied: matplotlib in c:\\users\\user\\anaconda3\\lib\\site-packages (from catboost) (3.5.1)\n",
      "Requirement already satisfied: graphviz in c:\\users\\user\\anaconda3\\lib\\site-packages (from catboost) (0.20.1)\n",
      "Requirement already satisfied: plotly in c:\\users\\user\\anaconda3\\lib\\site-packages (from catboost) (5.6.0)\n",
      "Requirement already satisfied: pandas>=0.24.0 in c:\\users\\user\\anaconda3\\lib\\site-packages (from catboost) (1.4.2)\n",
      "Requirement already satisfied: scipy in c:\\users\\user\\anaconda3\\lib\\site-packages (from catboost) (1.7.3)\n",
      "Requirement already satisfied: six in c:\\users\\user\\anaconda3\\lib\\site-packages (from catboost) (1.16.0)\n",
      "Requirement already satisfied: numpy>=1.16.0 in c:\\users\\user\\anaconda3\\lib\\site-packages (from catboost) (1.21.5)\n",
      "Requirement already satisfied: python-dateutil>=2.8.1 in c:\\users\\user\\anaconda3\\lib\\site-packages (from pandas>=0.24.0->catboost) (2.8.2)\n",
      "Requirement already satisfied: pytz>=2020.1 in c:\\users\\user\\anaconda3\\lib\\site-packages (from pandas>=0.24.0->catboost) (2021.3)\n",
      "Requirement already satisfied: kiwisolver>=1.0.1 in c:\\users\\user\\anaconda3\\lib\\site-packages (from matplotlib->catboost) (1.3.2)\n",
      "Requirement already satisfied: packaging>=20.0 in c:\\users\\user\\anaconda3\\lib\\site-packages (from matplotlib->catboost) (21.3)\n",
      "Requirement already satisfied: pillow>=6.2.0 in c:\\users\\user\\anaconda3\\lib\\site-packages (from matplotlib->catboost) (9.0.1)\n",
      "Requirement already satisfied: fonttools>=4.22.0 in c:\\users\\user\\anaconda3\\lib\\site-packages (from matplotlib->catboost) (4.25.0)\n",
      "Requirement already satisfied: cycler>=0.10 in c:\\users\\user\\anaconda3\\lib\\site-packages (from matplotlib->catboost) (0.11.0)\n",
      "Requirement already satisfied: pyparsing>=2.2.1 in c:\\users\\user\\anaconda3\\lib\\site-packages (from matplotlib->catboost) (3.0.4)\n",
      "Requirement already satisfied: tenacity>=6.2.0 in c:\\users\\user\\anaconda3\\lib\\site-packages (from plotly->catboost) (8.0.1)\n"
     ]
    }
   ],
   "source": [
    "!pip install xgboost\n",
    "!pip install catboost\n",
    "!pip install pyarrow\n",
    "!pip install fastparquet"
   ]
  },
  {
   "cell_type": "code",
   "execution_count": 2,
   "metadata": {},
   "outputs": [
    {
     "name": "stdout",
     "output_type": "stream",
     "text": [
      "Requirement already satisfied: pyarrow in c:\\users\\user\\anaconda3\\lib\\site-packages (9.0.0)\n",
      "Requirement already satisfied: numpy>=1.16.6 in c:\\users\\user\\anaconda3\\lib\\site-packages (from pyarrow) (1.21.5)\n"
     ]
    }
   ],
   "source": [
    "!pip install pyarrow"
   ]
  },
  {
   "cell_type": "code",
   "execution_count": 3,
   "metadata": {},
   "outputs": [
    {
     "name": "stdout",
     "output_type": "stream",
     "text": [
      "Requirement already satisfied: fastparquet in c:\\users\\user\\anaconda3\\lib\\site-packages (0.8.2)\n",
      "Requirement already satisfied: pandas>=1.1.0 in c:\\users\\user\\anaconda3\\lib\\site-packages (from fastparquet) (1.4.2)\n",
      "Requirement already satisfied: cramjam>=2.3.0 in c:\\users\\user\\anaconda3\\lib\\site-packages (from fastparquet) (2.5.0)\n",
      "Requirement already satisfied: packaging in c:\\users\\user\\anaconda3\\lib\\site-packages (from fastparquet) (21.3)\n",
      "Requirement already satisfied: numpy>=1.18 in c:\\users\\user\\anaconda3\\lib\\site-packages (from fastparquet) (1.21.5)\n",
      "Requirement already satisfied: fsspec in c:\\users\\user\\anaconda3\\lib\\site-packages (from fastparquet) (2022.2.0)\n",
      "Requirement already satisfied: pytz>=2020.1 in c:\\users\\user\\anaconda3\\lib\\site-packages (from pandas>=1.1.0->fastparquet) (2021.3)\n",
      "Requirement already satisfied: python-dateutil>=2.8.1 in c:\\users\\user\\anaconda3\\lib\\site-packages (from pandas>=1.1.0->fastparquet) (2.8.2)\n",
      "Requirement already satisfied: six>=1.5 in c:\\users\\user\\anaconda3\\lib\\site-packages (from python-dateutil>=2.8.1->pandas>=1.1.0->fastparquet) (1.16.0)\n",
      "Requirement already satisfied: pyparsing!=3.0.5,>=2.0.2 in c:\\users\\user\\anaconda3\\lib\\site-packages (from packaging->fastparquet) (3.0.4)\n"
     ]
    }
   ],
   "source": [
    "!pip install fastparquet"
   ]
  },
  {
   "cell_type": "markdown",
   "metadata": {},
   "source": [
    "# Importación de librerías"
   ]
  },
  {
   "cell_type": "code",
   "execution_count": 2,
   "metadata": {},
   "outputs": [],
   "source": [
    "import os\n",
    "import re\n",
    "import numpy as np\n",
    "import pandas as pd\n",
    "import seaborn as sns\n",
    "from scipy.stats import norm\n",
    "import matplotlib.pyplot as plt\n",
    "import warnings\n",
    "warnings.filterwarnings(action=\"ignore\")\n",
    "from sklearn.pipeline import make_pipeline\n",
    "from sklearn.model_selection import train_test_split\n",
    "from sklearn.model_selection import StratifiedShuffleSplit\n",
    "import sklearn\n",
    "import xgboost\n",
    "from sklearn import tree\n",
    "from sklearn.svm import SVC\n",
    "from sklearn.metrics import roc_curve\n",
    "from imblearn.pipeline import Pipeline\n",
    "from catboost import CatBoostClassifier\n",
    "from imblearn.over_sampling import SMOTE\n",
    "from sklearn.metrics import classification_report\n",
    "from sklearn.ensemble import RandomForestClassifier, GradientBoostingClassifier\n",
    "from sklearn.linear_model import LogisticRegression\n",
    "from sklearn.model_selection import cross_val_predict\n",
    "from sklearn.model_selection import RandomizedSearchCV\n",
    "from sklearn.model_selection import KFold, cross_validate\n",
    "from sklearn.metrics import recall_score, f1_score, roc_auc_score\n",
    "from imblearn.pipeline import make_pipeline as imbalanced_make_pipeline\n",
    "from sklearn.metrics import precision_recall_curve, average_precision_score\n",
    "from sklearn.model_selection import StratifiedKFold\n",
    "from sklearn.metrics import confusion_matrix, accuracy_score, precision_score"
   ]
  },
  {
   "cell_type": "markdown",
   "metadata": {},
   "source": [
    "# Lectura del dataset limpio"
   ]
  },
  {
   "cell_type": "code",
   "execution_count": 3,
   "metadata": {},
   "outputs": [
    {
     "data": {
      "text/html": [
       "<div>\n",
       "<style scoped>\n",
       "    .dataframe tbody tr th:only-of-type {\n",
       "        vertical-align: middle;\n",
       "    }\n",
       "\n",
       "    .dataframe tbody tr th {\n",
       "        vertical-align: top;\n",
       "    }\n",
       "\n",
       "    .dataframe thead th {\n",
       "        text-align: right;\n",
       "    }\n",
       "</style>\n",
       "<table border=\"1\" class=\"dataframe\">\n",
       "  <thead>\n",
       "    <tr style=\"text-align: right;\">\n",
       "      <th></th>\n",
       "      <th>Bankrupt?</th>\n",
       "      <th>ROA(C) before interest and depreciation before interest</th>\n",
       "      <th>ROA(A) before interest and % after tax</th>\n",
       "      <th>Operating Gross Margin</th>\n",
       "      <th>Operating Profit Rate</th>\n",
       "      <th>Pre-tax net Interest Rate</th>\n",
       "      <th>After-tax net Interest Rate</th>\n",
       "      <th>Non-industry income and expenditure/revenue</th>\n",
       "      <th>Continuous interest rate (after tax)</th>\n",
       "      <th>Operating Expense Rate</th>\n",
       "      <th>...</th>\n",
       "      <th>Working Capital/Equity_Low</th>\n",
       "      <th>Working Capital/Equity_Medium</th>\n",
       "      <th>Cash Flow to Sales_High</th>\n",
       "      <th>Cash Flow to Sales_Low</th>\n",
       "      <th>Cash Flow to Liability_High</th>\n",
       "      <th>Cash Flow to Liability_Low</th>\n",
       "      <th>Cash Flow to Liability_Medium</th>\n",
       "      <th>CFO to Assets_High</th>\n",
       "      <th>CFO to Assets_Low</th>\n",
       "      <th>CFO to Assets_Medium</th>\n",
       "    </tr>\n",
       "  </thead>\n",
       "  <tbody>\n",
       "    <tr>\n",
       "      <th>0</th>\n",
       "      <td>1</td>\n",
       "      <td>0.370594</td>\n",
       "      <td>0.424389</td>\n",
       "      <td>0.601457</td>\n",
       "      <td>0.998969</td>\n",
       "      <td>0.796887</td>\n",
       "      <td>0.808809</td>\n",
       "      <td>0.302646</td>\n",
       "      <td>0.780985</td>\n",
       "      <td>1.256969e-04</td>\n",
       "      <td>...</td>\n",
       "      <td>0</td>\n",
       "      <td>0</td>\n",
       "      <td>1</td>\n",
       "      <td>0</td>\n",
       "      <td>0</td>\n",
       "      <td>0</td>\n",
       "      <td>1</td>\n",
       "      <td>0</td>\n",
       "      <td>0</td>\n",
       "      <td>1</td>\n",
       "    </tr>\n",
       "    <tr>\n",
       "      <th>1</th>\n",
       "      <td>1</td>\n",
       "      <td>0.464291</td>\n",
       "      <td>0.538214</td>\n",
       "      <td>0.610235</td>\n",
       "      <td>0.998946</td>\n",
       "      <td>0.797380</td>\n",
       "      <td>0.809301</td>\n",
       "      <td>0.303556</td>\n",
       "      <td>0.781506</td>\n",
       "      <td>2.897851e-04</td>\n",
       "      <td>...</td>\n",
       "      <td>0</td>\n",
       "      <td>0</td>\n",
       "      <td>1</td>\n",
       "      <td>0</td>\n",
       "      <td>0</td>\n",
       "      <td>0</td>\n",
       "      <td>1</td>\n",
       "      <td>1</td>\n",
       "      <td>0</td>\n",
       "      <td>0</td>\n",
       "    </tr>\n",
       "    <tr>\n",
       "      <th>2</th>\n",
       "      <td>1</td>\n",
       "      <td>0.426071</td>\n",
       "      <td>0.499019</td>\n",
       "      <td>0.601450</td>\n",
       "      <td>0.998857</td>\n",
       "      <td>0.796403</td>\n",
       "      <td>0.808388</td>\n",
       "      <td>0.302035</td>\n",
       "      <td>0.780284</td>\n",
       "      <td>2.361297e-04</td>\n",
       "      <td>...</td>\n",
       "      <td>0</td>\n",
       "      <td>0</td>\n",
       "      <td>1</td>\n",
       "      <td>0</td>\n",
       "      <td>0</td>\n",
       "      <td>0</td>\n",
       "      <td>1</td>\n",
       "      <td>0</td>\n",
       "      <td>0</td>\n",
       "      <td>1</td>\n",
       "    </tr>\n",
       "    <tr>\n",
       "      <th>3</th>\n",
       "      <td>1</td>\n",
       "      <td>0.399844</td>\n",
       "      <td>0.451265</td>\n",
       "      <td>0.583541</td>\n",
       "      <td>0.998700</td>\n",
       "      <td>0.796967</td>\n",
       "      <td>0.808966</td>\n",
       "      <td>0.303350</td>\n",
       "      <td>0.781241</td>\n",
       "      <td>1.078888e-04</td>\n",
       "      <td>...</td>\n",
       "      <td>0</td>\n",
       "      <td>0</td>\n",
       "      <td>1</td>\n",
       "      <td>0</td>\n",
       "      <td>0</td>\n",
       "      <td>1</td>\n",
       "      <td>0</td>\n",
       "      <td>1</td>\n",
       "      <td>0</td>\n",
       "      <td>0</td>\n",
       "    </tr>\n",
       "    <tr>\n",
       "      <th>4</th>\n",
       "      <td>1</td>\n",
       "      <td>0.465022</td>\n",
       "      <td>0.538432</td>\n",
       "      <td>0.598783</td>\n",
       "      <td>0.998973</td>\n",
       "      <td>0.797366</td>\n",
       "      <td>0.809304</td>\n",
       "      <td>0.303475</td>\n",
       "      <td>0.781550</td>\n",
       "      <td>7.890000e+09</td>\n",
       "      <td>...</td>\n",
       "      <td>0</td>\n",
       "      <td>0</td>\n",
       "      <td>1</td>\n",
       "      <td>0</td>\n",
       "      <td>0</td>\n",
       "      <td>0</td>\n",
       "      <td>1</td>\n",
       "      <td>1</td>\n",
       "      <td>0</td>\n",
       "      <td>0</td>\n",
       "    </tr>\n",
       "  </tbody>\n",
       "</table>\n",
       "<p>5 rows × 115 columns</p>\n",
       "</div>"
      ],
      "text/plain": [
       "   Bankrupt?   ROA(C) before interest and depreciation before interest  \\\n",
       "0          1                                           0.370594          \n",
       "1          1                                           0.464291          \n",
       "2          1                                           0.426071          \n",
       "3          1                                           0.399844          \n",
       "4          1                                           0.465022          \n",
       "\n",
       "    ROA(A) before interest and % after tax   Operating Gross Margin  \\\n",
       "0                                 0.424389                 0.601457   \n",
       "1                                 0.538214                 0.610235   \n",
       "2                                 0.499019                 0.601450   \n",
       "3                                 0.451265                 0.583541   \n",
       "4                                 0.538432                 0.598783   \n",
       "\n",
       "    Operating Profit Rate   Pre-tax net Interest Rate  \\\n",
       "0                0.998969                    0.796887   \n",
       "1                0.998946                    0.797380   \n",
       "2                0.998857                    0.796403   \n",
       "3                0.998700                    0.796967   \n",
       "4                0.998973                    0.797366   \n",
       "\n",
       "    After-tax net Interest Rate   Non-industry income and expenditure/revenue  \\\n",
       "0                      0.808809                                      0.302646   \n",
       "1                      0.809301                                      0.303556   \n",
       "2                      0.808388                                      0.302035   \n",
       "3                      0.808966                                      0.303350   \n",
       "4                      0.809304                                      0.303475   \n",
       "\n",
       "    Continuous interest rate (after tax)   Operating Expense Rate  ...  \\\n",
       "0                               0.780985             1.256969e-04  ...   \n",
       "1                               0.781506             2.897851e-04  ...   \n",
       "2                               0.780284             2.361297e-04  ...   \n",
       "3                               0.781241             1.078888e-04  ...   \n",
       "4                               0.781550             7.890000e+09  ...   \n",
       "\n",
       "    Working Capital/Equity_Low   Working Capital/Equity_Medium  \\\n",
       "0                            0                               0   \n",
       "1                            0                               0   \n",
       "2                            0                               0   \n",
       "3                            0                               0   \n",
       "4                            0                               0   \n",
       "\n",
       "    Cash Flow to Sales_High   Cash Flow to Sales_Low  \\\n",
       "0                         1                        0   \n",
       "1                         1                        0   \n",
       "2                         1                        0   \n",
       "3                         1                        0   \n",
       "4                         1                        0   \n",
       "\n",
       "    Cash Flow to Liability_High   Cash Flow to Liability_Low  \\\n",
       "0                             0                            0   \n",
       "1                             0                            0   \n",
       "2                             0                            0   \n",
       "3                             0                            1   \n",
       "4                             0                            0   \n",
       "\n",
       "    Cash Flow to Liability_Medium   CFO to Assets_High   CFO to Assets_Low  \\\n",
       "0                               1                    0                   0   \n",
       "1                               1                    1                   0   \n",
       "2                               1                    0                   0   \n",
       "3                               0                    1                   0   \n",
       "4                               1                    1                   0   \n",
       "\n",
       "    CFO to Assets_Medium  \n",
       "0                      1  \n",
       "1                      0  \n",
       "2                      1  \n",
       "3                      0  \n",
       "4                      0  \n",
       "\n",
       "[5 rows x 115 columns]"
      ]
     },
     "execution_count": 3,
     "metadata": {},
     "output_type": "execute_result"
    }
   ],
   "source": [
    "df = pd.read_parquet('https://mlearner.s3.amazonaws.com/data/clean_data.parquet')\n",
    "df.head()"
   ]
  },
  {
   "cell_type": "code",
   "execution_count": 6,
   "metadata": {},
   "outputs": [],
   "source": [
    "df.columns = df.columns.str.lstrip()"
   ]
  },
  {
   "cell_type": "code",
   "execution_count": 7,
   "metadata": {},
   "outputs": [
    {
     "data": {
      "text/html": [
       "<div>\n",
       "<style scoped>\n",
       "    .dataframe tbody tr th:only-of-type {\n",
       "        vertical-align: middle;\n",
       "    }\n",
       "\n",
       "    .dataframe tbody tr th {\n",
       "        vertical-align: top;\n",
       "    }\n",
       "\n",
       "    .dataframe thead th {\n",
       "        text-align: right;\n",
       "    }\n",
       "</style>\n",
       "<table border=\"1\" class=\"dataframe\">\n",
       "  <thead>\n",
       "    <tr style=\"text-align: right;\">\n",
       "      <th></th>\n",
       "      <th>bankrupt?</th>\n",
       "      <th>r_o_a(_c) before interest and depreciation before interest</th>\n",
       "      <th>r_o_a(_a) before interest and % after tax</th>\n",
       "      <th>operating _gross _margin</th>\n",
       "      <th>operating _profit _rate</th>\n",
       "      <th>pre-tax net _interest _rate</th>\n",
       "      <th>after-tax net _interest _rate</th>\n",
       "      <th>non-industry income and expenditure/revenue</th>\n",
       "      <th>continuous interest rate (after tax)</th>\n",
       "      <th>operating _expense _rate</th>\n",
       "      <th>...</th>\n",
       "      <th>working _capital/_equity__low</th>\n",
       "      <th>working _capital/_equity__medium</th>\n",
       "      <th>cash _flow to _sales__high</th>\n",
       "      <th>cash _flow to _sales__low</th>\n",
       "      <th>cash _flow to _liability__high</th>\n",
       "      <th>cash _flow to _liability__low</th>\n",
       "      <th>cash _flow to _liability__medium</th>\n",
       "      <th>c_f_o to _assets__high</th>\n",
       "      <th>c_f_o to _assets__low</th>\n",
       "      <th>c_f_o to _assets__medium</th>\n",
       "    </tr>\n",
       "  </thead>\n",
       "  <tbody>\n",
       "    <tr>\n",
       "      <th>0</th>\n",
       "      <td>1</td>\n",
       "      <td>0.370594</td>\n",
       "      <td>0.424389</td>\n",
       "      <td>0.601457</td>\n",
       "      <td>0.998969</td>\n",
       "      <td>0.796887</td>\n",
       "      <td>0.808809</td>\n",
       "      <td>0.302646</td>\n",
       "      <td>0.780985</td>\n",
       "      <td>1.256969e-04</td>\n",
       "      <td>...</td>\n",
       "      <td>0</td>\n",
       "      <td>0</td>\n",
       "      <td>1</td>\n",
       "      <td>0</td>\n",
       "      <td>0</td>\n",
       "      <td>0</td>\n",
       "      <td>1</td>\n",
       "      <td>0</td>\n",
       "      <td>0</td>\n",
       "      <td>1</td>\n",
       "    </tr>\n",
       "    <tr>\n",
       "      <th>1</th>\n",
       "      <td>1</td>\n",
       "      <td>0.464291</td>\n",
       "      <td>0.538214</td>\n",
       "      <td>0.610235</td>\n",
       "      <td>0.998946</td>\n",
       "      <td>0.797380</td>\n",
       "      <td>0.809301</td>\n",
       "      <td>0.303556</td>\n",
       "      <td>0.781506</td>\n",
       "      <td>2.897851e-04</td>\n",
       "      <td>...</td>\n",
       "      <td>0</td>\n",
       "      <td>0</td>\n",
       "      <td>1</td>\n",
       "      <td>0</td>\n",
       "      <td>0</td>\n",
       "      <td>0</td>\n",
       "      <td>1</td>\n",
       "      <td>1</td>\n",
       "      <td>0</td>\n",
       "      <td>0</td>\n",
       "    </tr>\n",
       "    <tr>\n",
       "      <th>2</th>\n",
       "      <td>1</td>\n",
       "      <td>0.426071</td>\n",
       "      <td>0.499019</td>\n",
       "      <td>0.601450</td>\n",
       "      <td>0.998857</td>\n",
       "      <td>0.796403</td>\n",
       "      <td>0.808388</td>\n",
       "      <td>0.302035</td>\n",
       "      <td>0.780284</td>\n",
       "      <td>2.361297e-04</td>\n",
       "      <td>...</td>\n",
       "      <td>0</td>\n",
       "      <td>0</td>\n",
       "      <td>1</td>\n",
       "      <td>0</td>\n",
       "      <td>0</td>\n",
       "      <td>0</td>\n",
       "      <td>1</td>\n",
       "      <td>0</td>\n",
       "      <td>0</td>\n",
       "      <td>1</td>\n",
       "    </tr>\n",
       "    <tr>\n",
       "      <th>3</th>\n",
       "      <td>1</td>\n",
       "      <td>0.399844</td>\n",
       "      <td>0.451265</td>\n",
       "      <td>0.583541</td>\n",
       "      <td>0.998700</td>\n",
       "      <td>0.796967</td>\n",
       "      <td>0.808966</td>\n",
       "      <td>0.303350</td>\n",
       "      <td>0.781241</td>\n",
       "      <td>1.078888e-04</td>\n",
       "      <td>...</td>\n",
       "      <td>0</td>\n",
       "      <td>0</td>\n",
       "      <td>1</td>\n",
       "      <td>0</td>\n",
       "      <td>0</td>\n",
       "      <td>1</td>\n",
       "      <td>0</td>\n",
       "      <td>1</td>\n",
       "      <td>0</td>\n",
       "      <td>0</td>\n",
       "    </tr>\n",
       "    <tr>\n",
       "      <th>4</th>\n",
       "      <td>1</td>\n",
       "      <td>0.465022</td>\n",
       "      <td>0.538432</td>\n",
       "      <td>0.598783</td>\n",
       "      <td>0.998973</td>\n",
       "      <td>0.797366</td>\n",
       "      <td>0.809304</td>\n",
       "      <td>0.303475</td>\n",
       "      <td>0.781550</td>\n",
       "      <td>7.890000e+09</td>\n",
       "      <td>...</td>\n",
       "      <td>0</td>\n",
       "      <td>0</td>\n",
       "      <td>1</td>\n",
       "      <td>0</td>\n",
       "      <td>0</td>\n",
       "      <td>0</td>\n",
       "      <td>1</td>\n",
       "      <td>1</td>\n",
       "      <td>0</td>\n",
       "      <td>0</td>\n",
       "    </tr>\n",
       "  </tbody>\n",
       "</table>\n",
       "<p>5 rows × 115 columns</p>\n",
       "</div>"
      ],
      "text/plain": [
       "   bankrupt?  r_o_a(_c) before interest and depreciation before interest  \\\n",
       "0          1                                           0.370594            \n",
       "1          1                                           0.464291            \n",
       "2          1                                           0.426071            \n",
       "3          1                                           0.399844            \n",
       "4          1                                           0.465022            \n",
       "\n",
       "   r_o_a(_a) before interest and % after tax  operating _gross _margin  \\\n",
       "0                                   0.424389                  0.601457   \n",
       "1                                   0.538214                  0.610235   \n",
       "2                                   0.499019                  0.601450   \n",
       "3                                   0.451265                  0.583541   \n",
       "4                                   0.538432                  0.598783   \n",
       "\n",
       "   operating _profit _rate  pre-tax net _interest _rate  \\\n",
       "0                 0.998969                     0.796887   \n",
       "1                 0.998946                     0.797380   \n",
       "2                 0.998857                     0.796403   \n",
       "3                 0.998700                     0.796967   \n",
       "4                 0.998973                     0.797366   \n",
       "\n",
       "   after-tax net _interest _rate  non-industry income and expenditure/revenue  \\\n",
       "0                       0.808809                                     0.302646   \n",
       "1                       0.809301                                     0.303556   \n",
       "2                       0.808388                                     0.302035   \n",
       "3                       0.808966                                     0.303350   \n",
       "4                       0.809304                                     0.303475   \n",
       "\n",
       "   continuous interest rate (after tax)  operating _expense _rate  ...  \\\n",
       "0                              0.780985              1.256969e-04  ...   \n",
       "1                              0.781506              2.897851e-04  ...   \n",
       "2                              0.780284              2.361297e-04  ...   \n",
       "3                              0.781241              1.078888e-04  ...   \n",
       "4                              0.781550              7.890000e+09  ...   \n",
       "\n",
       "   working _capital/_equity__low  working _capital/_equity__medium  \\\n",
       "0                              0                                 0   \n",
       "1                              0                                 0   \n",
       "2                              0                                 0   \n",
       "3                              0                                 0   \n",
       "4                              0                                 0   \n",
       "\n",
       "   cash _flow to _sales__high  cash _flow to _sales__low  \\\n",
       "0                           1                          0   \n",
       "1                           1                          0   \n",
       "2                           1                          0   \n",
       "3                           1                          0   \n",
       "4                           1                          0   \n",
       "\n",
       "   cash _flow to _liability__high  cash _flow to _liability__low  \\\n",
       "0                               0                              0   \n",
       "1                               0                              0   \n",
       "2                               0                              0   \n",
       "3                               0                              1   \n",
       "4                               0                              0   \n",
       "\n",
       "   cash _flow to _liability__medium  c_f_o to _assets__high  \\\n",
       "0                                 1                       0   \n",
       "1                                 1                       1   \n",
       "2                                 1                       0   \n",
       "3                                 0                       1   \n",
       "4                                 1                       1   \n",
       "\n",
       "   c_f_o to _assets__low  c_f_o to _assets__medium  \n",
       "0                      0                         1  \n",
       "1                      0                         0  \n",
       "2                      0                         1  \n",
       "3                      0                         0  \n",
       "4                      0                         0  \n",
       "\n",
       "[5 rows x 115 columns]"
      ]
     },
     "execution_count": 7,
     "metadata": {},
     "output_type": "execute_result"
    }
   ],
   "source": [
    "df.columns = [re.sub(r'(?<!^)(?=[A-Z])', '_', name).lower() for name in df.columns]\n",
    "df.head()"
   ]
  },
  {
   "cell_type": "markdown",
   "metadata": {},
   "source": [
    "# Características del dataset tras la limpieza"
   ]
  },
  {
   "cell_type": "code",
   "execution_count": 8,
   "metadata": {},
   "outputs": [
    {
     "data": {
      "text/plain": [
       "(6819, 115)"
      ]
     },
     "execution_count": 8,
     "metadata": {},
     "output_type": "execute_result"
    }
   ],
   "source": [
    "df.shape"
   ]
  },
  {
   "cell_type": "code",
   "execution_count": 9,
   "metadata": {},
   "outputs": [
    {
     "data": {
      "text/plain": [
       "Index(['bankrupt?',\n",
       "       'r_o_a(_c) before interest and depreciation before interest',\n",
       "       'r_o_a(_a) before interest and % after tax', 'operating _gross _margin',\n",
       "       'operating _profit _rate', 'pre-tax net _interest _rate',\n",
       "       'after-tax net _interest _rate',\n",
       "       'non-industry income and expenditure/revenue',\n",
       "       'continuous interest rate (after tax)', 'operating _expense _rate',\n",
       "       ...\n",
       "       'working _capital/_equity__low', 'working _capital/_equity__medium',\n",
       "       'cash _flow to _sales__high', 'cash _flow to _sales__low',\n",
       "       'cash _flow to _liability__high', 'cash _flow to _liability__low',\n",
       "       'cash _flow to _liability__medium', 'c_f_o to _assets__high',\n",
       "       'c_f_o to _assets__low', 'c_f_o to _assets__medium'],\n",
       "      dtype='object', length=115)"
      ]
     },
     "execution_count": 9,
     "metadata": {},
     "output_type": "execute_result"
    }
   ],
   "source": [
    "df.columns"
   ]
  },
  {
   "cell_type": "code",
   "execution_count": 10,
   "metadata": {},
   "outputs": [
    {
     "name": "stdout",
     "output_type": "stream",
     "text": [
      "0    6599\n",
      "1     220\n",
      "Name: bankrupt?, dtype: int64\n"
     ]
    },
    {
     "data": {
      "text/plain": [
       "<AxesSubplot:xlabel='bankrupt?', ylabel='count'>"
      ]
     },
     "execution_count": 10,
     "metadata": {},
     "output_type": "execute_result"
    },
    {
     "data": {
      "image/png": "[encoded data removed]",
      "text/plain": [
       "<Figure size 432x288 with 1 Axes>"
      ]
     },
     "metadata": {
      "needs_background": "light"
     },
     "output_type": "display_data"
    }
   ],
   "source": [
    "print(df['bankrupt?'].value_counts())\n",
    "sns.countplot(x=df['bankrupt?'])"
   ]
  },
  {
   "cell_type": "code",
   "execution_count": 11,
   "metadata": {},
   "outputs": [],
   "source": [
    "etiquetas = df['bankrupt?']\n",
    "df = df.drop(['bankrupt?'], axis = 1)"
   ]
  },
  {
   "cell_type": "code",
   "execution_count": 12,
   "metadata": {},
   "outputs": [
    {
     "data": {
      "text/plain": [
       "0       1\n",
       "1       1\n",
       "2       1\n",
       "3       1\n",
       "4       1\n",
       "       ..\n",
       "6814    0\n",
       "6815    0\n",
       "6816    0\n",
       "6817    0\n",
       "6818    0\n",
       "Name: bankrupt?, Length: 6819, dtype: int64"
      ]
     },
     "execution_count": 12,
     "metadata": {},
     "output_type": "execute_result"
    }
   ],
   "source": [
    "etiquetas"
   ]
  },
  {
   "cell_type": "code",
   "execution_count": 13,
   "metadata": {},
   "outputs": [
    {
     "data": {
      "text/html": [
       "<div>\n",
       "<style scoped>\n",
       "    .dataframe tbody tr th:only-of-type {\n",
       "        vertical-align: middle;\n",
       "    }\n",
       "\n",
       "    .dataframe tbody tr th {\n",
       "        vertical-align: top;\n",
       "    }\n",
       "\n",
       "    .dataframe thead th {\n",
       "        text-align: right;\n",
       "    }\n",
       "</style>\n",
       "<table border=\"1\" class=\"dataframe\">\n",
       "  <thead>\n",
       "    <tr style=\"text-align: right;\">\n",
       "      <th></th>\n",
       "      <th>r_o_a(_c) before interest and depreciation before interest</th>\n",
       "      <th>r_o_a(_a) before interest and % after tax</th>\n",
       "      <th>operating _gross _margin</th>\n",
       "      <th>operating _profit _rate</th>\n",
       "      <th>pre-tax net _interest _rate</th>\n",
       "      <th>after-tax net _interest _rate</th>\n",
       "      <th>non-industry income and expenditure/revenue</th>\n",
       "      <th>continuous interest rate (after tax)</th>\n",
       "      <th>operating _expense _rate</th>\n",
       "      <th>research and development expense rate</th>\n",
       "      <th>...</th>\n",
       "      <th>working _capital/_equity__low</th>\n",
       "      <th>working _capital/_equity__medium</th>\n",
       "      <th>cash _flow to _sales__high</th>\n",
       "      <th>cash _flow to _sales__low</th>\n",
       "      <th>cash _flow to _liability__high</th>\n",
       "      <th>cash _flow to _liability__low</th>\n",
       "      <th>cash _flow to _liability__medium</th>\n",
       "      <th>c_f_o to _assets__high</th>\n",
       "      <th>c_f_o to _assets__low</th>\n",
       "      <th>c_f_o to _assets__medium</th>\n",
       "    </tr>\n",
       "  </thead>\n",
       "  <tbody>\n",
       "    <tr>\n",
       "      <th>0</th>\n",
       "      <td>0.370594</td>\n",
       "      <td>0.424389</td>\n",
       "      <td>0.601457</td>\n",
       "      <td>0.998969</td>\n",
       "      <td>0.796887</td>\n",
       "      <td>0.808809</td>\n",
       "      <td>0.302646</td>\n",
       "      <td>0.780985</td>\n",
       "      <td>1.256969e-04</td>\n",
       "      <td>0.000000e+00</td>\n",
       "      <td>...</td>\n",
       "      <td>0</td>\n",
       "      <td>0</td>\n",
       "      <td>1</td>\n",
       "      <td>0</td>\n",
       "      <td>0</td>\n",
       "      <td>0</td>\n",
       "      <td>1</td>\n",
       "      <td>0</td>\n",
       "      <td>0</td>\n",
       "      <td>1</td>\n",
       "    </tr>\n",
       "    <tr>\n",
       "      <th>1</th>\n",
       "      <td>0.464291</td>\n",
       "      <td>0.538214</td>\n",
       "      <td>0.610235</td>\n",
       "      <td>0.998946</td>\n",
       "      <td>0.797380</td>\n",
       "      <td>0.809301</td>\n",
       "      <td>0.303556</td>\n",
       "      <td>0.781506</td>\n",
       "      <td>2.897851e-04</td>\n",
       "      <td>0.000000e+00</td>\n",
       "      <td>...</td>\n",
       "      <td>0</td>\n",
       "      <td>0</td>\n",
       "      <td>1</td>\n",
       "      <td>0</td>\n",
       "      <td>0</td>\n",
       "      <td>0</td>\n",
       "      <td>1</td>\n",
       "      <td>1</td>\n",
       "      <td>0</td>\n",
       "      <td>0</td>\n",
       "    </tr>\n",
       "    <tr>\n",
       "      <th>2</th>\n",
       "      <td>0.426071</td>\n",
       "      <td>0.499019</td>\n",
       "      <td>0.601450</td>\n",
       "      <td>0.998857</td>\n",
       "      <td>0.796403</td>\n",
       "      <td>0.808388</td>\n",
       "      <td>0.302035</td>\n",
       "      <td>0.780284</td>\n",
       "      <td>2.361297e-04</td>\n",
       "      <td>2.550000e+07</td>\n",
       "      <td>...</td>\n",
       "      <td>0</td>\n",
       "      <td>0</td>\n",
       "      <td>1</td>\n",
       "      <td>0</td>\n",
       "      <td>0</td>\n",
       "      <td>0</td>\n",
       "      <td>1</td>\n",
       "      <td>0</td>\n",
       "      <td>0</td>\n",
       "      <td>1</td>\n",
       "    </tr>\n",
       "    <tr>\n",
       "      <th>3</th>\n",
       "      <td>0.399844</td>\n",
       "      <td>0.451265</td>\n",
       "      <td>0.583541</td>\n",
       "      <td>0.998700</td>\n",
       "      <td>0.796967</td>\n",
       "      <td>0.808966</td>\n",
       "      <td>0.303350</td>\n",
       "      <td>0.781241</td>\n",
       "      <td>1.078888e-04</td>\n",
       "      <td>0.000000e+00</td>\n",
       "      <td>...</td>\n",
       "      <td>0</td>\n",
       "      <td>0</td>\n",
       "      <td>1</td>\n",
       "      <td>0</td>\n",
       "      <td>0</td>\n",
       "      <td>1</td>\n",
       "      <td>0</td>\n",
       "      <td>1</td>\n",
       "      <td>0</td>\n",
       "      <td>0</td>\n",
       "    </tr>\n",
       "    <tr>\n",
       "      <th>4</th>\n",
       "      <td>0.465022</td>\n",
       "      <td>0.538432</td>\n",
       "      <td>0.598783</td>\n",
       "      <td>0.998973</td>\n",
       "      <td>0.797366</td>\n",
       "      <td>0.809304</td>\n",
       "      <td>0.303475</td>\n",
       "      <td>0.781550</td>\n",
       "      <td>7.890000e+09</td>\n",
       "      <td>0.000000e+00</td>\n",
       "      <td>...</td>\n",
       "      <td>0</td>\n",
       "      <td>0</td>\n",
       "      <td>1</td>\n",
       "      <td>0</td>\n",
       "      <td>0</td>\n",
       "      <td>0</td>\n",
       "      <td>1</td>\n",
       "      <td>1</td>\n",
       "      <td>0</td>\n",
       "      <td>0</td>\n",
       "    </tr>\n",
       "    <tr>\n",
       "      <th>...</th>\n",
       "      <td>...</td>\n",
       "      <td>...</td>\n",
       "      <td>...</td>\n",
       "      <td>...</td>\n",
       "      <td>...</td>\n",
       "      <td>...</td>\n",
       "      <td>...</td>\n",
       "      <td>...</td>\n",
       "      <td>...</td>\n",
       "      <td>...</td>\n",
       "      <td>...</td>\n",
       "      <td>...</td>\n",
       "      <td>...</td>\n",
       "      <td>...</td>\n",
       "      <td>...</td>\n",
       "      <td>...</td>\n",
       "      <td>...</td>\n",
       "      <td>...</td>\n",
       "      <td>...</td>\n",
       "      <td>...</td>\n",
       "      <td>...</td>\n",
       "    </tr>\n",
       "    <tr>\n",
       "      <th>6814</th>\n",
       "      <td>0.493687</td>\n",
       "      <td>0.539468</td>\n",
       "      <td>0.604455</td>\n",
       "      <td>0.998992</td>\n",
       "      <td>0.797409</td>\n",
       "      <td>0.809331</td>\n",
       "      <td>0.303510</td>\n",
       "      <td>0.781588</td>\n",
       "      <td>1.510213e-04</td>\n",
       "      <td>4.500000e+09</td>\n",
       "      <td>...</td>\n",
       "      <td>0</td>\n",
       "      <td>0</td>\n",
       "      <td>1</td>\n",
       "      <td>0</td>\n",
       "      <td>0</td>\n",
       "      <td>0</td>\n",
       "      <td>1</td>\n",
       "      <td>1</td>\n",
       "      <td>0</td>\n",
       "      <td>0</td>\n",
       "    </tr>\n",
       "    <tr>\n",
       "      <th>6815</th>\n",
       "      <td>0.475162</td>\n",
       "      <td>0.538269</td>\n",
       "      <td>0.598308</td>\n",
       "      <td>0.998992</td>\n",
       "      <td>0.797414</td>\n",
       "      <td>0.809327</td>\n",
       "      <td>0.303520</td>\n",
       "      <td>0.781586</td>\n",
       "      <td>5.220000e+09</td>\n",
       "      <td>1.440000e+09</td>\n",
       "      <td>...</td>\n",
       "      <td>0</td>\n",
       "      <td>0</td>\n",
       "      <td>1</td>\n",
       "      <td>0</td>\n",
       "      <td>0</td>\n",
       "      <td>0</td>\n",
       "      <td>1</td>\n",
       "      <td>1</td>\n",
       "      <td>0</td>\n",
       "      <td>0</td>\n",
       "    </tr>\n",
       "    <tr>\n",
       "      <th>6816</th>\n",
       "      <td>0.472725</td>\n",
       "      <td>0.533744</td>\n",
       "      <td>0.610444</td>\n",
       "      <td>0.998984</td>\n",
       "      <td>0.797401</td>\n",
       "      <td>0.809317</td>\n",
       "      <td>0.303512</td>\n",
       "      <td>0.781546</td>\n",
       "      <td>2.509312e-04</td>\n",
       "      <td>1.039086e-04</td>\n",
       "      <td>...</td>\n",
       "      <td>0</td>\n",
       "      <td>0</td>\n",
       "      <td>1</td>\n",
       "      <td>0</td>\n",
       "      <td>0</td>\n",
       "      <td>0</td>\n",
       "      <td>1</td>\n",
       "      <td>1</td>\n",
       "      <td>0</td>\n",
       "      <td>0</td>\n",
       "    </tr>\n",
       "    <tr>\n",
       "      <th>6817</th>\n",
       "      <td>0.506264</td>\n",
       "      <td>0.559911</td>\n",
       "      <td>0.607850</td>\n",
       "      <td>0.999074</td>\n",
       "      <td>0.797500</td>\n",
       "      <td>0.809399</td>\n",
       "      <td>0.303498</td>\n",
       "      <td>0.781663</td>\n",
       "      <td>1.236154e-04</td>\n",
       "      <td>2.510000e+09</td>\n",
       "      <td>...</td>\n",
       "      <td>0</td>\n",
       "      <td>0</td>\n",
       "      <td>1</td>\n",
       "      <td>0</td>\n",
       "      <td>0</td>\n",
       "      <td>0</td>\n",
       "      <td>1</td>\n",
       "      <td>1</td>\n",
       "      <td>0</td>\n",
       "      <td>0</td>\n",
       "    </tr>\n",
       "    <tr>\n",
       "      <th>6818</th>\n",
       "      <td>0.493053</td>\n",
       "      <td>0.570105</td>\n",
       "      <td>0.627409</td>\n",
       "      <td>0.998080</td>\n",
       "      <td>0.801987</td>\n",
       "      <td>0.813800</td>\n",
       "      <td>0.313415</td>\n",
       "      <td>0.786079</td>\n",
       "      <td>1.431695e-03</td>\n",
       "      <td>0.000000e+00</td>\n",
       "      <td>...</td>\n",
       "      <td>0</td>\n",
       "      <td>0</td>\n",
       "      <td>1</td>\n",
       "      <td>0</td>\n",
       "      <td>0</td>\n",
       "      <td>0</td>\n",
       "      <td>1</td>\n",
       "      <td>0</td>\n",
       "      <td>0</td>\n",
       "      <td>1</td>\n",
       "    </tr>\n",
       "  </tbody>\n",
       "</table>\n",
       "<p>6819 rows × 114 columns</p>\n",
       "</div>"
      ],
      "text/plain": [
       "      r_o_a(_c) before interest and depreciation before interest  \\\n",
       "0                                              0.370594            \n",
       "1                                              0.464291            \n",
       "2                                              0.426071            \n",
       "3                                              0.399844            \n",
       "4                                              0.465022            \n",
       "...                                                 ...            \n",
       "6814                                           0.493687            \n",
       "6815                                           0.475162            \n",
       "6816                                           0.472725            \n",
       "6817                                           0.506264            \n",
       "6818                                           0.493053            \n",
       "\n",
       "      r_o_a(_a) before interest and % after tax  operating _gross _margin  \\\n",
       "0                                      0.424389                  0.601457   \n",
       "1                                      0.538214                  0.610235   \n",
       "2                                      0.499019                  0.601450   \n",
       "3                                      0.451265                  0.583541   \n",
       "4                                      0.538432                  0.598783   \n",
       "...                                         ...                       ...   \n",
       "6814                                   0.539468                  0.604455   \n",
       "6815                                   0.538269                  0.598308   \n",
       "6816                                   0.533744                  0.610444   \n",
       "6817                                   0.559911                  0.607850   \n",
       "6818                                   0.570105                  0.627409   \n",
       "\n",
       "      operating _profit _rate  pre-tax net _interest _rate  \\\n",
       "0                    0.998969                     0.796887   \n",
       "1                    0.998946                     0.797380   \n",
       "2                    0.998857                     0.796403   \n",
       "3                    0.998700                     0.796967   \n",
       "4                    0.998973                     0.797366   \n",
       "...                       ...                          ...   \n",
       "6814                 0.998992                     0.797409   \n",
       "6815                 0.998992                     0.797414   \n",
       "6816                 0.998984                     0.797401   \n",
       "6817                 0.999074                     0.797500   \n",
       "6818                 0.998080                     0.801987   \n",
       "\n",
       "      after-tax net _interest _rate  \\\n",
       "0                          0.808809   \n",
       "1                          0.809301   \n",
       "2                          0.808388   \n",
       "3                          0.808966   \n",
       "4                          0.809304   \n",
       "...                             ...   \n",
       "6814                       0.809331   \n",
       "6815                       0.809327   \n",
       "6816                       0.809317   \n",
       "6817                       0.809399   \n",
       "6818                       0.813800   \n",
       "\n",
       "      non-industry income and expenditure/revenue  \\\n",
       "0                                        0.302646   \n",
       "1                                        0.303556   \n",
       "2                                        0.302035   \n",
       "3                                        0.303350   \n",
       "4                                        0.303475   \n",
       "...                                           ...   \n",
       "6814                                     0.303510   \n",
       "6815                                     0.303520   \n",
       "6816                                     0.303512   \n",
       "6817                                     0.303498   \n",
       "6818                                     0.313415   \n",
       "\n",
       "      continuous interest rate (after tax)  operating _expense _rate  \\\n",
       "0                                 0.780985              1.256969e-04   \n",
       "1                                 0.781506              2.897851e-04   \n",
       "2                                 0.780284              2.361297e-04   \n",
       "3                                 0.781241              1.078888e-04   \n",
       "4                                 0.781550              7.890000e+09   \n",
       "...                                    ...                       ...   \n",
       "6814                              0.781588              1.510213e-04   \n",
       "6815                              0.781586              5.220000e+09   \n",
       "6816                              0.781546              2.509312e-04   \n",
       "6817                              0.781663              1.236154e-04   \n",
       "6818                              0.786079              1.431695e-03   \n",
       "\n",
       "      research and development expense rate  ...  \\\n",
       "0                              0.000000e+00  ...   \n",
       "1                              0.000000e+00  ...   \n",
       "2                              2.550000e+07  ...   \n",
       "3                              0.000000e+00  ...   \n",
       "4                              0.000000e+00  ...   \n",
       "...                                     ...  ...   \n",
       "6814                           4.500000e+09  ...   \n",
       "6815                           1.440000e+09  ...   \n",
       "6816                           1.039086e-04  ...   \n",
       "6817                           2.510000e+09  ...   \n",
       "6818                           0.000000e+00  ...   \n",
       "\n",
       "      working _capital/_equity__low  working _capital/_equity__medium  \\\n",
       "0                                 0                                 0   \n",
       "1                                 0                                 0   \n",
       "2                                 0                                 0   \n",
       "3                                 0                                 0   \n",
       "4                                 0                                 0   \n",
       "...                             ...                               ...   \n",
       "6814                              0                                 0   \n",
       "6815                              0                                 0   \n",
       "6816                              0                                 0   \n",
       "6817                              0                                 0   \n",
       "6818                              0                                 0   \n",
       "\n",
       "      cash _flow to _sales__high  cash _flow to _sales__low  \\\n",
       "0                              1                          0   \n",
       "1                              1                          0   \n",
       "2                              1                          0   \n",
       "3                              1                          0   \n",
       "4                              1                          0   \n",
       "...                          ...                        ...   \n",
       "6814                           1                          0   \n",
       "6815                           1                          0   \n",
       "6816                           1                          0   \n",
       "6817                           1                          0   \n",
       "6818                           1                          0   \n",
       "\n",
       "      cash _flow to _liability__high  cash _flow to _liability__low  \\\n",
       "0                                  0                              0   \n",
       "1                                  0                              0   \n",
       "2                                  0                              0   \n",
       "3                                  0                              1   \n",
       "4                                  0                              0   \n",
       "...                              ...                            ...   \n",
       "6814                               0                              0   \n",
       "6815                               0                              0   \n",
       "6816                               0                              0   \n",
       "6817                               0                              0   \n",
       "6818                               0                              0   \n",
       "\n",
       "      cash _flow to _liability__medium  c_f_o to _assets__high  \\\n",
       "0                                    1                       0   \n",
       "1                                    1                       1   \n",
       "2                                    1                       0   \n",
       "3                                    0                       1   \n",
       "4                                    1                       1   \n",
       "...                                ...                     ...   \n",
       "6814                                 1                       1   \n",
       "6815                                 1                       1   \n",
       "6816                                 1                       1   \n",
       "6817                                 1                       1   \n",
       "6818                                 1                       0   \n",
       "\n",
       "      c_f_o to _assets__low  c_f_o to _assets__medium  \n",
       "0                         0                         1  \n",
       "1                         0                         0  \n",
       "2                         0                         1  \n",
       "3                         0                         0  \n",
       "4                         0                         0  \n",
       "...                     ...                       ...  \n",
       "6814                      0                         0  \n",
       "6815                      0                         0  \n",
       "6816                      0                         0  \n",
       "6817                      0                         0  \n",
       "6818                      0                         1  \n",
       "\n",
       "[6819 rows x 114 columns]"
      ]
     },
     "execution_count": 13,
     "metadata": {},
     "output_type": "execute_result"
    }
   ],
   "source": [
    "df"
   ]
  },
  {
   "cell_type": "markdown",
   "metadata": {},
   "source": [
    "## División de datos de entrenamiento y test"
   ]
  },
  {
   "cell_type": "code",
   "execution_count": 14,
   "metadata": {},
   "outputs": [],
   "source": [
    "X_train, X_test, y_train, y_test  = train_test_split(df, etiquetas, test_size=0.1, stratify = etiquetas, random_state = 42)"
   ]
  },
  {
   "cell_type": "markdown",
   "metadata": {},
   "source": [
    "## Validación cruzada estratificada de K-Fold"
   ]
  },
  {
   "cell_type": "code",
   "execution_count": 15,
   "metadata": {},
   "outputs": [],
   "source": [
    "skf = StratifiedKFold(n_splits=5, shuffle=False)\n",
    "\n",
    "for index_train, index_test in skf.split(X_train, y_train):\n",
    "    X_train_sm, X_val_sm = X_train.iloc[index_train], X_train.iloc[index_test]\n",
    "    y_train_sm, y_val_sm = y_train.iloc[index_train], y_train.iloc[index_test]\n",
    "\n",
    "X_train_sm = X_train_sm.values\n",
    "X_val_sm = X_val_sm.values\n",
    "y_train_sm = y_train_sm.values\n",
    "y_val_sm = y_val_sm.values"
   ]
  },
  {
   "cell_type": "markdown",
   "metadata": {},
   "source": [
    "## Regresión logística"
   ]
  },
  {
   "cell_type": "code",
   "execution_count": 16,
   "metadata": {},
   "outputs": [
    {
     "name": "stdout",
     "output_type": "stream",
     "text": [
      "Logistic Regression (SMOTE) results:\n",
      "\n",
      "accuracy: 0.7313645621181262\n",
      "precision: 0.052610575094235223\n",
      "recall: 0.4300403225806452\n",
      "f1: 0.09368949134416955\n"
     ]
    }
   ],
   "source": [
    "accuracy_lst_reg = []\n",
    "precision_lst_reg = []\n",
    "recall_lst_reg = []\n",
    "f1_lst_reg = []\n",
    "auc_lst_reg = []\n",
    "\n",
    "log_reg_sm = LogisticRegression()\n",
    "log_reg_params = {\"penalty\": ['l2'],\n",
    "                  'C': [0.001, 0.01, 0.1, 1, 10, 100, 1000],\n",
    "                  'class_weight': ['balanced',None],\n",
    "                  'solver':['newton-cg', 'lbfgs', 'liblinear', 'sag', 'saga']}\n",
    "\n",
    "rand_log_reg = RandomizedSearchCV(LogisticRegression(), log_reg_params, n_iter=4)\n",
    "\n",
    "\n",
    "for train, val in skf.split(X_train_sm, y_train_sm):\n",
    "    pipeline_reg = imbalanced_make_pipeline(SMOTE(sampling_strategy='minority'), rand_log_reg) # SMOTE happens during Cross Validation not before..\n",
    "    model_reg = pipeline_reg.fit(X_train_sm[train], y_train_sm[train])\n",
    "    best_est_reg = rand_log_reg.best_estimator_\n",
    "    prediction_reg = best_est_reg.predict(X_train_sm[val])\n",
    "    \n",
    "    accuracy_lst_reg.append(pipeline_reg.score(X_train_sm[val], y_train_sm[val]))\n",
    "    precision_lst_reg.append(precision_score(y_train_sm[val], prediction_reg))\n",
    "    recall_lst_reg.append(recall_score(y_train_sm[val], prediction_reg))\n",
    "    f1_lst_reg.append(f1_score(y_train_sm[val], prediction_reg))\n",
    "    auc_lst_reg.append(roc_auc_score(y_train_sm[val], prediction_reg))\n",
    "\n",
    "\n",
    "print('Logistic Regression (SMOTE) results:')\n",
    "print('')\n",
    "print(\"accuracy: {}\".format(np.mean(accuracy_lst_reg)))\n",
    "print(\"precision: {}\".format(np.mean(precision_lst_reg)))\n",
    "print(\"recall: {}\".format(np.mean(recall_lst_reg)))\n",
    "print(\"f1: {}\".format(np.mean(f1_lst_reg)))"
   ]
  },
  {
   "cell_type": "code",
   "execution_count": 35,
   "metadata": {},
   "outputs": [
    {
     "data": {
      "text/plain": [
       "{'solver': 'lbfgs', 'penalty': 'l2', 'class_weight': 'balanced', 'C': 100}"
      ]
     },
     "execution_count": 35,
     "metadata": {},
     "output_type": "execute_result"
    }
   ],
   "source": [
    "rand_log_reg.best_params_"
   ]
  },
  {
   "cell_type": "code",
   "execution_count": 20,
   "metadata": {},
   "outputs": [
    {
     "name": "stdout",
     "output_type": "stream",
     "text": [
      "              precision    recall  f1-score   support\n",
      "\n",
      "  Fin.Stable       0.98      0.76      0.86      1187\n",
      "Fin.Unstable       0.06      0.45      0.11        40\n",
      "\n",
      "    accuracy                           0.75      1227\n",
      "   macro avg       0.52      0.61      0.48      1227\n",
      "weighted avg       0.95      0.75      0.83      1227\n",
      "\n"
     ]
    }
   ],
   "source": [
    "label = ['Fin.Stable', 'Fin.Unstable']\n",
    "pred_reg_sm = best_est_reg.predict(X_val_sm)\n",
    "print(classification_report(y_val_sm, pred_reg_sm, target_names=label))"
   ]
  },
  {
   "cell_type": "markdown",
   "metadata": {},
   "source": [
    "## XGBoost"
   ]
  },
  {
   "cell_type": "code",
   "execution_count": 21,
   "metadata": {},
   "outputs": [
    {
     "name": "stdout",
     "output_type": "stream",
     "text": [
      "---------------------------------------------------------------------------------------------------------------------------------------\n",
      "\n",
      "accuracy: 0.9824847250509166\n",
      "precision: 0.7183071645335797\n",
      "recall: 0.8983870967741936\n",
      "f1: 0.7877473982617778\n",
      "---------------------------------------------------------------------------------------------------------------------------------------\n"
     ]
    }
   ],
   "source": [
    "\n",
    "accuracy_lst_xgb = []\n",
    "precision_lst_xgb = []\n",
    "recall_lst_xgb = []\n",
    "f1_lst_xgb = []\n",
    "auc_lst_xgb = []\n",
    "\n",
    "xgb_sm = xgboost.XGBClassifier(random_state = 42)\n",
    "xgb_params = {'eta' : [0.1,0.01,0.001],  \n",
    "              'eval_metric': ['logloss'],\n",
    "              'max_depth' : [3,6,9],\n",
    "              'lambda' : [1,1.5,2],      \n",
    "              'alpha' : [0,0.5,1]}       \n",
    "        \n",
    "rand_xgb = RandomizedSearchCV(xgb_sm, xgb_params, n_iter=4)\n",
    "\n",
    "\n",
    "for train, val in skf.split(X_train_sm, y_train_sm):\n",
    "    pipeline_xgb = imbalanced_make_pipeline(SMOTE(sampling_strategy='minority'), rand_xgb) # SMOTE happens during Cross Validation not before..\n",
    "    model_xgb = pipeline_xgb.fit(X_train_sm, y_train_sm)\n",
    "    best_est_xgb = rand_xgb.best_estimator_\n",
    "    prediction_xgb = best_est_xgb.predict(X_train_sm[val])\n",
    "    \n",
    "    accuracy_lst_xgb.append(pipeline_xgb.score(X_train_sm[val], y_train_sm[val]))\n",
    "    precision_lst_xgb.append(precision_score(y_train_sm[val], prediction_xgb))\n",
    "    recall_lst_xgb.append(recall_score(y_train_sm[val], prediction_xgb))\n",
    "    f1_lst_xgb.append(f1_score(y_train_sm[val], prediction_xgb))\n",
    "    auc_lst_xgb.append(roc_auc_score(y_train_sm[val], prediction_xgb))\n",
    "    \n",
    "print('---' * 45)\n",
    "print('')\n",
    "print(\"accuracy: {}\".format(np.mean(accuracy_lst_xgb)))\n",
    "print(\"precision: {}\".format(np.mean(precision_lst_xgb)))\n",
    "print(\"recall: {}\".format(np.mean(recall_lst_xgb)))\n",
    "print(\"f1: {}\".format(np.mean(f1_lst_xgb)))\n",
    "print('---' * 45)"
   ]
  },
  {
   "cell_type": "code",
   "execution_count": 36,
   "metadata": {},
   "outputs": [
    {
     "data": {
      "text/plain": [
       "{'max_depth': 9,\n",
       " 'lambda': 1.5,\n",
       " 'eval_metric': 'logloss',\n",
       " 'eta': 0.1,\n",
       " 'alpha': 0.5}"
      ]
     },
     "execution_count": 36,
     "metadata": {},
     "output_type": "execute_result"
    }
   ],
   "source": [
    "rand_xgb.best_params_"
   ]
  },
  {
   "cell_type": "code",
   "execution_count": 23,
   "metadata": {},
   "outputs": [
    {
     "name": "stdout",
     "output_type": "stream",
     "text": [
      "              precision    recall  f1-score   support\n",
      "\n",
      "  Fin.Stable       0.98      0.99      0.98      1187\n",
      "Fin.Unstable       0.55      0.42      0.48        40\n",
      "\n",
      "    accuracy                           0.97      1227\n",
      "   macro avg       0.76      0.71      0.73      1227\n",
      "weighted avg       0.97      0.97      0.97      1227\n",
      "\n"
     ]
    }
   ],
   "source": [
    "smote_prediction_xgb = best_est_xgb.predict(X_val_sm)\n",
    "print(classification_report(y_val_sm, smote_prediction_xgb, target_names=label))"
   ]
  },
  {
   "cell_type": "markdown",
   "metadata": {},
   "source": [
    "## Random Forest"
   ]
  },
  {
   "cell_type": "code",
   "execution_count": 24,
   "metadata": {},
   "outputs": [
    {
     "name": "stdout",
     "output_type": "stream",
     "text": [
      "accuracy: 1.0\n",
      "precision: 1.0\n",
      "recall: 1.0\n",
      "f1: 1.0\n"
     ]
    }
   ],
   "source": [
    "accuracy_lst_rfc = []\n",
    "precision_lst_rfc = []\n",
    "recall_lst_rfc = []\n",
    "f1_lst_rfc = []\n",
    "auc_lst_rfc = []\n",
    "\n",
    "rfc_sm = RandomForestClassifier()\n",
    "rfc_params = {'max_features' : ['auto', 'sqrt', 'log2'],\n",
    "              'random_state' : [42],\n",
    "              'class_weight' : ['balanced','balanced_subsample'],\n",
    "              'criterion' : ['gini', 'entropy'],\n",
    "              'bootstrap' : [True, False]}\n",
    "    \n",
    "    \n",
    "rand_rfc = RandomizedSearchCV(rfc_sm, rfc_params, n_iter=4)\n",
    "\n",
    "\n",
    "for train, val in skf.split(X_train_sm, y_train_sm):\n",
    "    pipeline_rfc = imbalanced_make_pipeline(SMOTE(sampling_strategy='minority'), rand_rfc)\n",
    "    model_rfc = pipeline_rfc.fit(X_train_sm, y_train_sm)\n",
    "    best_est_rfc = rand_rfc.best_estimator_\n",
    "    prediction_rfc = best_est_rfc.predict(X_train_sm[val])\n",
    "    \n",
    "    accuracy_lst_rfc.append(pipeline_rfc.score(X_train_sm[val], y_train_sm[val]))\n",
    "    precision_lst_rfc.append(precision_score(y_train_sm[val], prediction_rfc))\n",
    "    recall_lst_rfc.append(recall_score(y_train_sm[val], prediction_rfc))\n",
    "    f1_lst_rfc.append(f1_score(y_train_sm[val], prediction_rfc))\n",
    "    auc_lst_rfc.append(roc_auc_score(y_train_sm[val], prediction_rfc))\n",
    "    \n",
    "print(\"accuracy: {}\".format(np.mean(accuracy_lst_rfc)))\n",
    "print(\"precision: {}\".format(np.mean(precision_lst_rfc)))\n",
    "print(\"recall: {}\".format(np.mean(recall_lst_rfc)))\n",
    "print(\"f1: {}\".format(np.mean(f1_lst_rfc)))\n"
   ]
  },
  {
   "cell_type": "code",
   "execution_count": 37,
   "metadata": {},
   "outputs": [
    {
     "data": {
      "text/plain": [
       "{'random_state': 42,\n",
       " 'max_features': 'sqrt',\n",
       " 'criterion': 'entropy',\n",
       " 'class_weight': 'balanced',\n",
       " 'bootstrap': False}"
      ]
     },
     "execution_count": 37,
     "metadata": {},
     "output_type": "execute_result"
    }
   ],
   "source": [
    "rand_rfc.best_params_"
   ]
  },
  {
   "cell_type": "code",
   "execution_count": 25,
   "metadata": {},
   "outputs": [
    {
     "name": "stdout",
     "output_type": "stream",
     "text": [
      "              precision    recall  f1-score   support\n",
      "\n",
      "  Fin.Stable       0.98      0.98      0.98      1187\n",
      "Fin.Unstable       0.49      0.47      0.48        40\n",
      "\n",
      "    accuracy                           0.97      1227\n",
      "   macro avg       0.73      0.73      0.73      1227\n",
      "weighted avg       0.97      0.97      0.97      1227\n",
      "\n"
     ]
    }
   ],
   "source": [
    "label = ['Fin.Stable', 'Fin.Unstable']\n",
    "smote_prediction_rfc = best_est_rfc.predict(X_val_sm)\n",
    "print(classification_report(y_val_sm, smote_prediction_rfc, target_names=label))"
   ]
  },
  {
   "cell_type": "markdown",
   "metadata": {},
   "source": [
    "## Gradient Boosting"
   ]
  },
  {
   "cell_type": "code",
   "execution_count": 26,
   "metadata": {},
   "outputs": [
    {
     "name": "stdout",
     "output_type": "stream",
     "text": [
      "accuracy: 0.9881873727087577\n",
      "precision: 0.7771310388957448\n",
      "recall: 0.8987903225806452\n",
      "f1: 0.8322406389084442\n"
     ]
    }
   ],
   "source": [
    "accuracy_lst_gbc = []\n",
    "precision_lst_gbc = []\n",
    "recall_lst_gbc = []\n",
    "f1_lst_gbc = []\n",
    "auc_lst_gbc = []\n",
    "\n",
    "gbc_sm = GradientBoostingClassifier()\n",
    "gbc_params = {'max_features' : ['auto', 'sqrt', 'log2'],\n",
    "              'random_state' : [42],\n",
    "              'n_estimators' : [20,50,100,200,300]}\n",
    "    \n",
    "    \n",
    "rand_gbc = RandomizedSearchCV(gbc_sm, gbc_params, n_iter=4)\n",
    "\n",
    "\n",
    "for train, val in skf.split(X_train_sm, y_train_sm):\n",
    "    pipeline_gbc = imbalanced_make_pipeline(SMOTE(sampling_strategy='minority'), rand_gbc)\n",
    "    model_gbc = pipeline_gbc.fit(X_train_sm, y_train_sm)\n",
    "    best_est_gbc = rand_gbc.best_estimator_\n",
    "    prediction_gbc = best_est_gbc.predict(X_train_sm[val])\n",
    "    \n",
    "    accuracy_lst_gbc.append(pipeline_gbc.score(X_train_sm[val], y_train_sm[val]))\n",
    "    precision_lst_gbc.append(precision_score(y_train_sm[val], prediction_gbc))\n",
    "    recall_lst_gbc.append(recall_score(y_train_sm[val], prediction_gbc))\n",
    "    f1_lst_gbc.append(f1_score(y_train_sm[val], prediction_gbc))\n",
    "    auc_lst_gbc.append(roc_auc_score(y_train_sm[val], prediction_gbc))\n",
    "    \n",
    "print(\"accuracy: {}\".format(np.mean(accuracy_lst_gbc)))\n",
    "print(\"precision: {}\".format(np.mean(precision_lst_gbc)))\n",
    "print(\"recall: {}\".format(np.mean(recall_lst_gbc)))\n",
    "print(\"f1: {}\".format(np.mean(f1_lst_gbc)))"
   ]
  },
  {
   "cell_type": "code",
   "execution_count": 38,
   "metadata": {},
   "outputs": [
    {
     "data": {
      "text/plain": [
       "{'random_state': 42, 'n_estimators': 100, 'max_features': 'auto'}"
      ]
     },
     "execution_count": 38,
     "metadata": {},
     "output_type": "execute_result"
    }
   ],
   "source": [
    "rand_gbc.best_params_"
   ]
  },
  {
   "cell_type": "code",
   "execution_count": 27,
   "metadata": {},
   "outputs": [
    {
     "name": "stdout",
     "output_type": "stream",
     "text": [
      "              precision    recall  f1-score   support\n",
      "\n",
      "  Fin.Stable       0.99      0.96      0.97      1187\n",
      "Fin.Unstable       0.34      0.57      0.43        40\n",
      "\n",
      "    accuracy                           0.95      1227\n",
      "   macro avg       0.66      0.77      0.70      1227\n",
      "weighted avg       0.96      0.95      0.96      1227\n",
      "\n"
     ]
    }
   ],
   "source": [
    "smote_prediction_gbc = best_est_gbc.predict(X_val_sm)\n",
    "print(classification_report(y_val_sm, smote_prediction_gbc, target_names=label))"
   ]
  },
  {
   "cell_type": "markdown",
   "metadata": {},
   "source": [
    "## Catboost"
   ]
  },
  {
   "cell_type": "code",
   "execution_count": 28,
   "metadata": {},
   "outputs": [
    {
     "name": "stdout",
     "output_type": "stream",
     "text": [
      "accuracy: 1.0\n",
      "precision: 1.0\n",
      "recall: 1.0\n",
      "f1: 1.0\n"
     ]
    }
   ],
   "source": [
    "accuracy_lst_cbt = []\n",
    "precision_lst_cbt = []\n",
    "recall_lst_cbt = []\n",
    "f1_lst_cbt = []\n",
    "auc_lst_cbt = []\n",
    "\n",
    "cbt_sm = CatBoostClassifier(verbose = 0)\n",
    "\n",
    "cbt_params = {'eval_metric': ['F1'],\n",
    "              'iterations': [100,500,1000],\n",
    "              'learning_rate' : [0.1,0.01,0.001],\n",
    "              'random_seed' : [42],\n",
    "              'auto_class_weights' : ['Balanced','SqrtBalanced']\n",
    "             }\n",
    "    \n",
    "    \n",
    "rand_cbt = RandomizedSearchCV(cbt_sm, cbt_params, n_iter=4)\n",
    "\n",
    "for train, val in skf.split(X_train_sm, y_train_sm):\n",
    "    pipeline_cbt = imbalanced_make_pipeline(SMOTE(sampling_strategy='minority'), rand_cbt) # SMOTE happens during Cross Validation not before..\n",
    "    model_cbt = pipeline_cbt.fit(X_train_sm, y_train_sm)\n",
    "    best_est_cbt = rand_cbt.best_estimator_\n",
    "    prediction_cbt = best_est_cbt.predict(X_train_sm[val])\n",
    "    \n",
    "    accuracy_lst_cbt.append(pipeline_cbt.score(X_train_sm[val], y_train_sm[val]))\n",
    "    precision_lst_cbt.append(precision_score(y_train_sm[val], prediction_cbt))\n",
    "    recall_lst_cbt.append(recall_score(y_train_sm[val], prediction_cbt))\n",
    "    f1_lst_cbt.append(f1_score(y_train_sm[val], prediction_cbt))\n",
    "    auc_lst_cbt.append(roc_auc_score(y_train_sm[val], prediction_cbt))\n",
    "    \n",
    "\n",
    "print(\"accuracy: {}\".format(np.mean(accuracy_lst_cbt)))\n",
    "print(\"precision: {}\".format(np.mean(precision_lst_cbt)))\n",
    "print(\"recall: {}\".format(np.mean(recall_lst_cbt)))\n",
    "print(\"f1: {}\".format(np.mean(f1_lst_cbt)))"
   ]
  },
  {
   "cell_type": "code",
   "execution_count": 29,
   "metadata": {},
   "outputs": [
    {
     "name": "stdout",
     "output_type": "stream",
     "text": [
      "              precision    recall  f1-score   support\n",
      "\n",
      "  Fin.Stable       0.98      0.99      0.98      1187\n",
      "Fin.Unstable       0.56      0.45      0.50        40\n",
      "\n",
      "    accuracy                           0.97      1227\n",
      "   macro avg       0.77      0.72      0.74      1227\n",
      "weighted avg       0.97      0.97      0.97      1227\n",
      "\n"
     ]
    }
   ],
   "source": [
    "smote_prediction_cbt = best_est_cbt.predict(X_val_sm)\n",
    "print(classification_report(y_val_sm, smote_prediction_cbt, target_names=label))"
   ]
  },
  {
   "cell_type": "code",
   "execution_count": 39,
   "metadata": {},
   "outputs": [
    {
     "data": {
      "text/plain": [
       "{'random_seed': 42,\n",
       " 'learning_rate': 0.1,\n",
       " 'iterations': 500,\n",
       " 'eval_metric': 'F1',\n",
       " 'auto_class_weights': 'SqrtBalanced'}"
      ]
     },
     "execution_count": 39,
     "metadata": {},
     "output_type": "execute_result"
    }
   ],
   "source": [
    "rand_cbt.best_params_"
   ]
  },
  {
   "cell_type": "markdown",
   "metadata": {},
   "source": [
    "## Curvas ROC"
   ]
  },
  {
   "cell_type": "code",
   "execution_count": 31,
   "metadata": {},
   "outputs": [
    {
     "data": {
      "image/png": "[encoded data removed]",
      "text/plain": [
       "<Figure size 1440x576 with 1 Axes>"
      ]
     },
     "metadata": {
      "needs_background": "light"
     },
     "output_type": "display_data"
    }
   ],
   "source": [
    "from sklearn.metrics import roc_curve\n",
    "\n",
    "log_false_positive_rate, log_true_positive_rate, _ = roc_curve(y_val_sm, pred_reg_sm)\n",
    "xgb_false_positive_rate, xgb_true_positive_rate, _ = roc_curve(y_val_sm, smote_prediction_xgb)\n",
    "rfc_false_positive_rate, rfc_true_positive_rate, _ = roc_curve(y_val_sm, smote_prediction_rfc)\n",
    "gbc_false_positive_rate, gbc_true_positive_rate, _ = roc_curve(y_val_sm, smote_prediction_gbc)\n",
    "cat_false_positive_rate, cat_true_positive_rate, _ = roc_curve(y_val_sm, smote_prediction_cbt)\n",
    "\n",
    "\n",
    "def graficar_curvas_ROC(log_false_positive_rate, log_true_positive_rate, rfc_false_positive_rate, rfc_true_positive_rate, xgb_false_positive_rate, xgb_true_positive_rate, cat_false_positive_rate, cat_true_positive_rate, gbc_false_positive_rate, gbc_true_positive_rate):\n",
    "    plt.figure(figsize=(20,8))\n",
    "    plt.title('Curvas ROC', fontsize=14)\n",
    "    plt.plot(log_false_positive_rate, log_true_positive_rate, label='Regresión logística AUC: {:.4f}'.format(roc_auc_score(y_val_sm, pred_reg_sm)))\n",
    "    plt.plot(xgb_false_positive_rate, xgb_true_positive_rate, label='XGBoost AUC: {:.4f}'.format(roc_auc_score(y_val_sm, smote_prediction_xgb)))\n",
    "    plt.plot(cat_false_positive_rate, cat_true_positive_rate, label='CatBoost AUC: {:.4f}'.format(roc_auc_score(y_val_sm, smote_prediction_cbt)))\n",
    "    plt.plot(rfc_false_positive_rate, rfc_true_positive_rate, label='Random Forest AUC: {:.4f}'.format(roc_auc_score(y_val_sm, smote_prediction_rfc)))\n",
    "    plt.plot(gbc_false_positive_rate, gbc_true_positive_rate, label='Gradient Boosting AUC: {:.4f}'.format(roc_auc_score(y_val_sm, smote_prediction_gbc)))\n",
    "    plt.plot([0, 1], [0, 1], 'k--')\n",
    "    plt.axis([-0.01, 1, 0, 1])\n",
    "    plt.xlabel('False Positive Rate', fontsize=14)\n",
    "    plt.ylabel('True Positive Rate', fontsize=14)\n",
    "    plt.legend()\n",
    "    \n",
    "graficar_curvas_ROC(log_false_positive_rate, log_true_positive_rate, rfc_false_positive_rate, rfc_true_positive_rate, xgb_false_positive_rate, xgb_true_positive_rate, cat_false_positive_rate, cat_true_positive_rate, gbc_false_positive_rate, gbc_true_positive_rate)\n",
    "\n",
    "plt.show()"
   ]
  },
  {
   "cell_type": "markdown",
   "metadata": {},
   "source": [
    "## Matrices de confusión"
   ]
  },
  {
   "cell_type": "code",
   "execution_count": 34,
   "metadata": {},
   "outputs": [
    {
     "data": {
      "image/png": "[encoded data removed]",
      "text/plain": [
       "<Figure size 1440x576 with 10 Axes>"
      ]
     },
     "metadata": {
      "needs_background": "light"
     },
     "output_type": "display_data"
    }
   ],
   "source": [
    "confusion_matrix_reg = confusion_matrix(y_val_sm, pred_reg_sm, normalize='true')\n",
    "confusion_matrix_xgb = confusion_matrix(y_val_sm, smote_prediction_xgb, normalize='true')\n",
    "confusion_matrix_rfc = confusion_matrix(y_val_sm, smote_prediction_rfc, normalize='true')\n",
    "confusion_matrix_gbc = confusion_matrix(y_val_sm, smote_prediction_gbc, normalize='true')\n",
    "confusion_matrix_cbt = confusion_matrix(y_val_sm, smote_prediction_cbt, normalize='true')\n",
    "\n",
    "heat_cm0 = pd.DataFrame(confusion_matrix_reg, columns=np.unique(y_val_sm), index = np.unique(y_val_sm))\n",
    "heat_cm0.index.name = 'Actual'\n",
    "heat_cm0.columns.name = 'Predicted'\n",
    "\n",
    "heat_cm1 = pd.DataFrame(confusion_matrix_xgb, columns=np.unique(y_val_sm), index = np.unique(y_val_sm))\n",
    "heat_cm1.index.name = 'Actual'\n",
    "heat_cm1.columns.name = 'Predicted'\n",
    "\n",
    "heat_cm2 = pd.DataFrame(confusion_matrix_rfc, columns=np.unique(y_val_sm), index = np.unique(y_val_sm))\n",
    "heat_cm2.index.name = 'Actual'\n",
    "heat_cm2.columns.name = 'Predicted'\n",
    "\n",
    "heat_cm3 = pd.DataFrame(confusion_matrix_gbc, columns=np.unique(y_val_sm), index = np.unique(y_val_sm))\n",
    "heat_cm3.index.name = 'Actual'\n",
    "heat_cm3.columns.name = 'Predicted'\n",
    "\n",
    "heat_cm4 = pd.DataFrame(confusion_matrix_cbt, columns=np.unique(y_val_sm), index = np.unique(y_val_sm))\n",
    "heat_cm4.index.name = 'Actual'\n",
    "heat_cm4.columns.name = 'Predicted'\n",
    "\n",
    "f, ax = plt.subplots(1, 5, figsize=(20,8))\n",
    "f.subplots_adjust(left=None, bottom=None, right= 2, top=None, wspace=None, hspace= None)\n",
    "\n",
    "sns.heatmap(heat_cm0, cmap=\"Blues\", annot=True, annot_kws={\"size\": 16},fmt='g', ax = ax[0])\n",
    "ax[0].set_title('Regresión logística', fontsize = 20)\n",
    "sns.heatmap(heat_cm1, cmap=\"Blues\", annot=True, annot_kws={\"size\": 16},fmt='g', ax = ax[1])\n",
    "ax[1].set_title('XGBoost', fontsize = 20)\n",
    "sns.heatmap(heat_cm2, cmap=\"Blues\", annot=True, annot_kws={\"size\": 16},fmt='g', ax = ax[2])\n",
    "ax[2].set_title('Random Forest', fontsize = 20)\n",
    "sns.heatmap(heat_cm3, cmap=\"Blues\", annot=True, annot_kws={\"size\": 16},fmt='g', ax = ax[3])\n",
    "ax[3].set_title('Gradient Boosting', fontsize = 20)\n",
    "sns.heatmap(heat_cm4, cmap=\"Blues\", annot=True, annot_kws={\"size\": 16},fmt='g', ax = ax[4])\n",
    "ax[4].set_title('Catboost', fontsize = 20)\n",
    "\n",
    "plt.show()"
   ]
  },
  {
   "cell_type": "markdown",
   "metadata": {},
   "source": [
    "## Testing de mejores modelos con conjunto de test"
   ]
  },
  {
   "cell_type": "code",
   "execution_count": 40,
   "metadata": {},
   "outputs": [],
   "source": [
    "test_pred_rfc = best_est_rfc.predict(X_test)\n",
    "test_pred_gbc = best_est_gbc.predict(X_test)"
   ]
  },
  {
   "cell_type": "code",
   "execution_count": 42,
   "metadata": {},
   "outputs": [
    {
     "data": {
      "image/png": "[encoded data removed]",
      "text/plain": [
       "<Figure size 1080x576 with 4 Axes>"
      ]
     },
     "metadata": {
      "needs_background": "light"
     },
     "output_type": "display_data"
    }
   ],
   "source": [
    "confusion_matrix_rfc = confusion_matrix(y_test, test_pred_rfc, normalize='true')\n",
    "confusion_matrix_gbc = confusion_matrix(y_test, test_pred_gbc, normalize='true')\n",
    "\n",
    "heat_cm0 = pd.DataFrame(confusion_matrix_rfc, columns=np.unique(y_test), index = np.unique(y_test))\n",
    "heat_cm0.index.name = 'Actual'\n",
    "heat_cm0.columns.name = 'Predicted'\n",
    "\n",
    "heat_cm1 = pd.DataFrame(confusion_matrix_gbc, columns=np.unique(y_test), index = np.unique(y_test))\n",
    "heat_cm1.index.name = 'Actual'\n",
    "heat_cm1.columns.name = 'Predicted'\n",
    "\n",
    "f, ax = plt.subplots(1, 2, figsize=(15,8))\n",
    "f.subplots_adjust(left=None, bottom=None, right= 2, top=None, wspace=None, hspace= None)\n",
    "\n",
    "sns.heatmap(heat_cm0, cmap=\"Blues\", annot=True, annot_kws={\"size\": 16},fmt='g', ax = ax[0])\n",
    "ax[0].set_title('Random Forest', fontsize = 20)\n",
    "sns.heatmap(heat_cm1, cmap=\"Blues\", annot=True, annot_kws={\"size\": 16},fmt='g', ax = ax[1])\n",
    "ax[1].set_title('Gradient Boosting', fontsize = 20)\n",
    "\n",
    "plt.show()"
   ]
  },
  {
   "cell_type": "code",
   "execution_count": 43,
   "metadata": {},
   "outputs": [
    {
     "name": "stdout",
     "output_type": "stream",
     "text": [
      "              precision    recall  f1-score   support\n",
      "\n",
      "  Fin.Stable       0.98      0.97      0.98       660\n",
      "Fin.Unstable       0.35      0.50      0.42        22\n",
      "\n",
      "    accuracy                           0.95       682\n",
      "   macro avg       0.67      0.73      0.70       682\n",
      "weighted avg       0.96      0.95      0.96       682\n",
      "\n"
     ]
    }
   ],
   "source": [
    "print(classification_report(y_test, test_pred_rfc, target_names=label))"
   ]
  },
  {
   "cell_type": "code",
   "execution_count": 44,
   "metadata": {},
   "outputs": [
    {
     "name": "stdout",
     "output_type": "stream",
     "text": [
      "              precision    recall  f1-score   support\n",
      "\n",
      "  Fin.Stable       0.98      0.96      0.97       660\n",
      "Fin.Unstable       0.31      0.50      0.39        22\n",
      "\n",
      "    accuracy                           0.95       682\n",
      "   macro avg       0.65      0.73      0.68       682\n",
      "weighted avg       0.96      0.95      0.95       682\n",
      "\n"
     ]
    }
   ],
   "source": [
    "print(classification_report(y_test, test_pred_gbc, target_names=label))"
   ]
  }
 ],
 "metadata": {
  "colab": {
   "collapsed_sections": [],
   "name": "05 - Models with SMOTE.ipynb",
   "provenance": [],
   "toc_visible": true
  },
  "kernelspec": {
   "display_name": "Python 3 (ipykernel)",
   "language": "python",
   "name": "python3"
  },
  "language_info": {
   "codemirror_mode": {
    "name": "ipython",
    "version": 3
   },
   "file_extension": ".py",
   "mimetype": "text/x-python",
   "name": "python",
   "nbconvert_exporter": "python",
   "pygments_lexer": "ipython3",
   "version": "3.9.12"
  }
 },
 "nbformat": 4,
 "nbformat_minor": 4
}
