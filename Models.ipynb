{
 "cells": [
  {
   "cell_type": "markdown",
   "metadata": {
    "id": "hL4MMKnACl49"
   },
   "source": [
    "Correr cada linea es importante para ver la funcionalidad de los scripts."
   ]
  },
  {
   "cell_type": "code",
   "execution_count": 1,
   "metadata": {
    "id": "d69FAFCBCCda"
   },
   "outputs": [],
   "source": [
    "import warnings\n",
    "warnings.filterwarnings('always')\n",
    "warnings.filterwarnings('ignore')\n",
    "import numpy as np\n",
    "import pandas as pd\n",
    "import matplotlib.pyplot as plt\n",
    "from sklearn.model_selection import train_test_split\n",
    "from sklearn.metrics import confusion_matrix,mean_absolute_error, accuracy_score, mean_squared_error, precision_score, f1_score,recall_score\n",
    "from sklearn.ensemble import GradientBoostingClassifier,RandomForestClassifier\n",
    "from sklearn.model_selection import StratifiedKFold\n",
    "import seaborn as sns\n",
    "import itertools\n",
    "from sklearn.svm import SVC\n",
    "from sklearn.metrics import recall_score\n",
    "import re\n"
   ]
  },
  {
   "cell_type": "markdown",
   "metadata": {
    "id": "yHDbrGhxJK8S"
   },
   "source": [
    "# ANALISIS DE LOS DATOS"
   ]
  },
  {
   "cell_type": "code",
   "execution_count": 2,
   "metadata": {
    "colab": {
     "base_uri": "https://localhost:8080/",
     "height": 224
    },
    "id": "bN_YXfiFHcci",
    "outputId": "d20a4ca5-9cf2-4890-f472-5b97d1df2f32"
   },
   "outputs": [
    {
     "data": {
      "text/html": [
       "<div>\n",
       "<style scoped>\n",
       "    .dataframe tbody tr th:only-of-type {\n",
       "        vertical-align: middle;\n",
       "    }\n",
       "\n",
       "    .dataframe tbody tr th {\n",
       "        vertical-align: top;\n",
       "    }\n",
       "\n",
       "    .dataframe thead th {\n",
       "        text-align: right;\n",
       "    }\n",
       "</style>\n",
       "<table border=\"1\" class=\"dataframe\">\n",
       "  <thead>\n",
       "    <tr style=\"text-align: right;\">\n",
       "      <th></th>\n",
       "      <th>Bankrupt?</th>\n",
       "      <th>ROA(C) before interest and depreciation before interest</th>\n",
       "      <th>ROA(A) before interest and % after tax</th>\n",
       "      <th>Operating Gross Margin</th>\n",
       "      <th>Operating Profit Rate</th>\n",
       "      <th>Pre-tax net Interest Rate</th>\n",
       "      <th>After-tax net Interest Rate</th>\n",
       "      <th>Non-industry income and expenditure/revenue</th>\n",
       "      <th>Continuous interest rate (after tax)</th>\n",
       "      <th>Operating Expense Rate</th>\n",
       "      <th>...</th>\n",
       "      <th>Working Capital/Equity_Low</th>\n",
       "      <th>Working Capital/Equity_Medium</th>\n",
       "      <th>Cash Flow to Sales_High</th>\n",
       "      <th>Cash Flow to Sales_Low</th>\n",
       "      <th>Cash Flow to Liability_High</th>\n",
       "      <th>Cash Flow to Liability_Low</th>\n",
       "      <th>Cash Flow to Liability_Medium</th>\n",
       "      <th>CFO to Assets_High</th>\n",
       "      <th>CFO to Assets_Low</th>\n",
       "      <th>CFO to Assets_Medium</th>\n",
       "    </tr>\n",
       "  </thead>\n",
       "  <tbody>\n",
       "    <tr>\n",
       "      <th>0</th>\n",
       "      <td>1</td>\n",
       "      <td>0.370594</td>\n",
       "      <td>0.424389</td>\n",
       "      <td>0.601457</td>\n",
       "      <td>0.998969</td>\n",
       "      <td>0.796887</td>\n",
       "      <td>0.808809</td>\n",
       "      <td>0.302646</td>\n",
       "      <td>0.780985</td>\n",
       "      <td>1.256969e-04</td>\n",
       "      <td>...</td>\n",
       "      <td>0</td>\n",
       "      <td>0</td>\n",
       "      <td>1</td>\n",
       "      <td>0</td>\n",
       "      <td>0</td>\n",
       "      <td>0</td>\n",
       "      <td>1</td>\n",
       "      <td>0</td>\n",
       "      <td>0</td>\n",
       "      <td>1</td>\n",
       "    </tr>\n",
       "    <tr>\n",
       "      <th>1</th>\n",
       "      <td>1</td>\n",
       "      <td>0.464291</td>\n",
       "      <td>0.538214</td>\n",
       "      <td>0.610235</td>\n",
       "      <td>0.998946</td>\n",
       "      <td>0.797380</td>\n",
       "      <td>0.809301</td>\n",
       "      <td>0.303556</td>\n",
       "      <td>0.781506</td>\n",
       "      <td>2.897851e-04</td>\n",
       "      <td>...</td>\n",
       "      <td>0</td>\n",
       "      <td>0</td>\n",
       "      <td>1</td>\n",
       "      <td>0</td>\n",
       "      <td>0</td>\n",
       "      <td>0</td>\n",
       "      <td>1</td>\n",
       "      <td>1</td>\n",
       "      <td>0</td>\n",
       "      <td>0</td>\n",
       "    </tr>\n",
       "    <tr>\n",
       "      <th>2</th>\n",
       "      <td>1</td>\n",
       "      <td>0.426071</td>\n",
       "      <td>0.499019</td>\n",
       "      <td>0.601450</td>\n",
       "      <td>0.998857</td>\n",
       "      <td>0.796403</td>\n",
       "      <td>0.808388</td>\n",
       "      <td>0.302035</td>\n",
       "      <td>0.780284</td>\n",
       "      <td>2.361297e-04</td>\n",
       "      <td>...</td>\n",
       "      <td>0</td>\n",
       "      <td>0</td>\n",
       "      <td>1</td>\n",
       "      <td>0</td>\n",
       "      <td>0</td>\n",
       "      <td>0</td>\n",
       "      <td>1</td>\n",
       "      <td>0</td>\n",
       "      <td>0</td>\n",
       "      <td>1</td>\n",
       "    </tr>\n",
       "    <tr>\n",
       "      <th>3</th>\n",
       "      <td>1</td>\n",
       "      <td>0.399844</td>\n",
       "      <td>0.451265</td>\n",
       "      <td>0.583541</td>\n",
       "      <td>0.998700</td>\n",
       "      <td>0.796967</td>\n",
       "      <td>0.808966</td>\n",
       "      <td>0.303350</td>\n",
       "      <td>0.781241</td>\n",
       "      <td>1.078888e-04</td>\n",
       "      <td>...</td>\n",
       "      <td>0</td>\n",
       "      <td>0</td>\n",
       "      <td>1</td>\n",
       "      <td>0</td>\n",
       "      <td>0</td>\n",
       "      <td>1</td>\n",
       "      <td>0</td>\n",
       "      <td>1</td>\n",
       "      <td>0</td>\n",
       "      <td>0</td>\n",
       "    </tr>\n",
       "    <tr>\n",
       "      <th>4</th>\n",
       "      <td>1</td>\n",
       "      <td>0.465022</td>\n",
       "      <td>0.538432</td>\n",
       "      <td>0.598783</td>\n",
       "      <td>0.998973</td>\n",
       "      <td>0.797366</td>\n",
       "      <td>0.809304</td>\n",
       "      <td>0.303475</td>\n",
       "      <td>0.781550</td>\n",
       "      <td>7.890000e+09</td>\n",
       "      <td>...</td>\n",
       "      <td>0</td>\n",
       "      <td>0</td>\n",
       "      <td>1</td>\n",
       "      <td>0</td>\n",
       "      <td>0</td>\n",
       "      <td>0</td>\n",
       "      <td>1</td>\n",
       "      <td>1</td>\n",
       "      <td>0</td>\n",
       "      <td>0</td>\n",
       "    </tr>\n",
       "  </tbody>\n",
       "</table>\n",
       "<p>5 rows × 115 columns</p>\n",
       "</div>"
      ],
      "text/plain": [
       "   Bankrupt?   ROA(C) before interest and depreciation before interest  \\\n",
       "0          1                                           0.370594          \n",
       "1          1                                           0.464291          \n",
       "2          1                                           0.426071          \n",
       "3          1                                           0.399844          \n",
       "4          1                                           0.465022          \n",
       "\n",
       "    ROA(A) before interest and % after tax   Operating Gross Margin  \\\n",
       "0                                 0.424389                 0.601457   \n",
       "1                                 0.538214                 0.610235   \n",
       "2                                 0.499019                 0.601450   \n",
       "3                                 0.451265                 0.583541   \n",
       "4                                 0.538432                 0.598783   \n",
       "\n",
       "    Operating Profit Rate   Pre-tax net Interest Rate  \\\n",
       "0                0.998969                    0.796887   \n",
       "1                0.998946                    0.797380   \n",
       "2                0.998857                    0.796403   \n",
       "3                0.998700                    0.796967   \n",
       "4                0.998973                    0.797366   \n",
       "\n",
       "    After-tax net Interest Rate   Non-industry income and expenditure/revenue  \\\n",
       "0                      0.808809                                      0.302646   \n",
       "1                      0.809301                                      0.303556   \n",
       "2                      0.808388                                      0.302035   \n",
       "3                      0.808966                                      0.303350   \n",
       "4                      0.809304                                      0.303475   \n",
       "\n",
       "    Continuous interest rate (after tax)   Operating Expense Rate  ...  \\\n",
       "0                               0.780985             1.256969e-04  ...   \n",
       "1                               0.781506             2.897851e-04  ...   \n",
       "2                               0.780284             2.361297e-04  ...   \n",
       "3                               0.781241             1.078888e-04  ...   \n",
       "4                               0.781550             7.890000e+09  ...   \n",
       "\n",
       "    Working Capital/Equity_Low   Working Capital/Equity_Medium  \\\n",
       "0                            0                               0   \n",
       "1                            0                               0   \n",
       "2                            0                               0   \n",
       "3                            0                               0   \n",
       "4                            0                               0   \n",
       "\n",
       "    Cash Flow to Sales_High   Cash Flow to Sales_Low  \\\n",
       "0                         1                        0   \n",
       "1                         1                        0   \n",
       "2                         1                        0   \n",
       "3                         1                        0   \n",
       "4                         1                        0   \n",
       "\n",
       "    Cash Flow to Liability_High   Cash Flow to Liability_Low  \\\n",
       "0                             0                            0   \n",
       "1                             0                            0   \n",
       "2                             0                            0   \n",
       "3                             0                            1   \n",
       "4                             0                            0   \n",
       "\n",
       "    Cash Flow to Liability_Medium   CFO to Assets_High   CFO to Assets_Low  \\\n",
       "0                               1                    0                   0   \n",
       "1                               1                    1                   0   \n",
       "2                               1                    0                   0   \n",
       "3                               0                    1                   0   \n",
       "4                               1                    1                   0   \n",
       "\n",
       "    CFO to Assets_Medium  \n",
       "0                      1  \n",
       "1                      0  \n",
       "2                      1  \n",
       "3                      0  \n",
       "4                      0  \n",
       "\n",
       "[5 rows x 115 columns]"
      ]
     },
     "execution_count": 2,
     "metadata": {},
     "output_type": "execute_result"
    }
   ],
   "source": [
    "df = pd.read_parquet('data/clean_data.parquet')\n",
    "df.head()"
   ]
  },
  {
   "cell_type": "code",
   "execution_count": 3,
   "metadata": {},
   "outputs": [],
   "source": [
    "df.columns = df.columns.str.lstrip()"
   ]
  },
  {
   "cell_type": "code",
   "execution_count": 4,
   "metadata": {},
   "outputs": [
    {
     "data": {
      "text/html": [
       "<div>\n",
       "<style scoped>\n",
       "    .dataframe tbody tr th:only-of-type {\n",
       "        vertical-align: middle;\n",
       "    }\n",
       "\n",
       "    .dataframe tbody tr th {\n",
       "        vertical-align: top;\n",
       "    }\n",
       "\n",
       "    .dataframe thead th {\n",
       "        text-align: right;\n",
       "    }\n",
       "</style>\n",
       "<table border=\"1\" class=\"dataframe\">\n",
       "  <thead>\n",
       "    <tr style=\"text-align: right;\">\n",
       "      <th></th>\n",
       "      <th>bankrupt?</th>\n",
       "      <th>r_o_a(_c) before interest and depreciation before interest</th>\n",
       "      <th>r_o_a(_a) before interest and % after tax</th>\n",
       "      <th>operating _gross _margin</th>\n",
       "      <th>operating _profit _rate</th>\n",
       "      <th>pre-tax net _interest _rate</th>\n",
       "      <th>after-tax net _interest _rate</th>\n",
       "      <th>non-industry income and expenditure/revenue</th>\n",
       "      <th>continuous interest rate (after tax)</th>\n",
       "      <th>operating _expense _rate</th>\n",
       "      <th>...</th>\n",
       "      <th>working _capital/_equity__low</th>\n",
       "      <th>working _capital/_equity__medium</th>\n",
       "      <th>cash _flow to _sales__high</th>\n",
       "      <th>cash _flow to _sales__low</th>\n",
       "      <th>cash _flow to _liability__high</th>\n",
       "      <th>cash _flow to _liability__low</th>\n",
       "      <th>cash _flow to _liability__medium</th>\n",
       "      <th>c_f_o to _assets__high</th>\n",
       "      <th>c_f_o to _assets__low</th>\n",
       "      <th>c_f_o to _assets__medium</th>\n",
       "    </tr>\n",
       "  </thead>\n",
       "  <tbody>\n",
       "    <tr>\n",
       "      <th>0</th>\n",
       "      <td>1</td>\n",
       "      <td>0.370594</td>\n",
       "      <td>0.424389</td>\n",
       "      <td>0.601457</td>\n",
       "      <td>0.998969</td>\n",
       "      <td>0.796887</td>\n",
       "      <td>0.808809</td>\n",
       "      <td>0.302646</td>\n",
       "      <td>0.780985</td>\n",
       "      <td>1.256969e-04</td>\n",
       "      <td>...</td>\n",
       "      <td>0</td>\n",
       "      <td>0</td>\n",
       "      <td>1</td>\n",
       "      <td>0</td>\n",
       "      <td>0</td>\n",
       "      <td>0</td>\n",
       "      <td>1</td>\n",
       "      <td>0</td>\n",
       "      <td>0</td>\n",
       "      <td>1</td>\n",
       "    </tr>\n",
       "    <tr>\n",
       "      <th>1</th>\n",
       "      <td>1</td>\n",
       "      <td>0.464291</td>\n",
       "      <td>0.538214</td>\n",
       "      <td>0.610235</td>\n",
       "      <td>0.998946</td>\n",
       "      <td>0.797380</td>\n",
       "      <td>0.809301</td>\n",
       "      <td>0.303556</td>\n",
       "      <td>0.781506</td>\n",
       "      <td>2.897851e-04</td>\n",
       "      <td>...</td>\n",
       "      <td>0</td>\n",
       "      <td>0</td>\n",
       "      <td>1</td>\n",
       "      <td>0</td>\n",
       "      <td>0</td>\n",
       "      <td>0</td>\n",
       "      <td>1</td>\n",
       "      <td>1</td>\n",
       "      <td>0</td>\n",
       "      <td>0</td>\n",
       "    </tr>\n",
       "    <tr>\n",
       "      <th>2</th>\n",
       "      <td>1</td>\n",
       "      <td>0.426071</td>\n",
       "      <td>0.499019</td>\n",
       "      <td>0.601450</td>\n",
       "      <td>0.998857</td>\n",
       "      <td>0.796403</td>\n",
       "      <td>0.808388</td>\n",
       "      <td>0.302035</td>\n",
       "      <td>0.780284</td>\n",
       "      <td>2.361297e-04</td>\n",
       "      <td>...</td>\n",
       "      <td>0</td>\n",
       "      <td>0</td>\n",
       "      <td>1</td>\n",
       "      <td>0</td>\n",
       "      <td>0</td>\n",
       "      <td>0</td>\n",
       "      <td>1</td>\n",
       "      <td>0</td>\n",
       "      <td>0</td>\n",
       "      <td>1</td>\n",
       "    </tr>\n",
       "    <tr>\n",
       "      <th>3</th>\n",
       "      <td>1</td>\n",
       "      <td>0.399844</td>\n",
       "      <td>0.451265</td>\n",
       "      <td>0.583541</td>\n",
       "      <td>0.998700</td>\n",
       "      <td>0.796967</td>\n",
       "      <td>0.808966</td>\n",
       "      <td>0.303350</td>\n",
       "      <td>0.781241</td>\n",
       "      <td>1.078888e-04</td>\n",
       "      <td>...</td>\n",
       "      <td>0</td>\n",
       "      <td>0</td>\n",
       "      <td>1</td>\n",
       "      <td>0</td>\n",
       "      <td>0</td>\n",
       "      <td>1</td>\n",
       "      <td>0</td>\n",
       "      <td>1</td>\n",
       "      <td>0</td>\n",
       "      <td>0</td>\n",
       "    </tr>\n",
       "    <tr>\n",
       "      <th>4</th>\n",
       "      <td>1</td>\n",
       "      <td>0.465022</td>\n",
       "      <td>0.538432</td>\n",
       "      <td>0.598783</td>\n",
       "      <td>0.998973</td>\n",
       "      <td>0.797366</td>\n",
       "      <td>0.809304</td>\n",
       "      <td>0.303475</td>\n",
       "      <td>0.781550</td>\n",
       "      <td>7.890000e+09</td>\n",
       "      <td>...</td>\n",
       "      <td>0</td>\n",
       "      <td>0</td>\n",
       "      <td>1</td>\n",
       "      <td>0</td>\n",
       "      <td>0</td>\n",
       "      <td>0</td>\n",
       "      <td>1</td>\n",
       "      <td>1</td>\n",
       "      <td>0</td>\n",
       "      <td>0</td>\n",
       "    </tr>\n",
       "  </tbody>\n",
       "</table>\n",
       "<p>5 rows × 115 columns</p>\n",
       "</div>"
      ],
      "text/plain": [
       "   bankrupt?  r_o_a(_c) before interest and depreciation before interest  \\\n",
       "0          1                                           0.370594            \n",
       "1          1                                           0.464291            \n",
       "2          1                                           0.426071            \n",
       "3          1                                           0.399844            \n",
       "4          1                                           0.465022            \n",
       "\n",
       "   r_o_a(_a) before interest and % after tax  operating _gross _margin  \\\n",
       "0                                   0.424389                  0.601457   \n",
       "1                                   0.538214                  0.610235   \n",
       "2                                   0.499019                  0.601450   \n",
       "3                                   0.451265                  0.583541   \n",
       "4                                   0.538432                  0.598783   \n",
       "\n",
       "   operating _profit _rate  pre-tax net _interest _rate  \\\n",
       "0                 0.998969                     0.796887   \n",
       "1                 0.998946                     0.797380   \n",
       "2                 0.998857                     0.796403   \n",
       "3                 0.998700                     0.796967   \n",
       "4                 0.998973                     0.797366   \n",
       "\n",
       "   after-tax net _interest _rate  non-industry income and expenditure/revenue  \\\n",
       "0                       0.808809                                     0.302646   \n",
       "1                       0.809301                                     0.303556   \n",
       "2                       0.808388                                     0.302035   \n",
       "3                       0.808966                                     0.303350   \n",
       "4                       0.809304                                     0.303475   \n",
       "\n",
       "   continuous interest rate (after tax)  operating _expense _rate  ...  \\\n",
       "0                              0.780985              1.256969e-04  ...   \n",
       "1                              0.781506              2.897851e-04  ...   \n",
       "2                              0.780284              2.361297e-04  ...   \n",
       "3                              0.781241              1.078888e-04  ...   \n",
       "4                              0.781550              7.890000e+09  ...   \n",
       "\n",
       "   working _capital/_equity__low  working _capital/_equity__medium  \\\n",
       "0                              0                                 0   \n",
       "1                              0                                 0   \n",
       "2                              0                                 0   \n",
       "3                              0                                 0   \n",
       "4                              0                                 0   \n",
       "\n",
       "   cash _flow to _sales__high  cash _flow to _sales__low  \\\n",
       "0                           1                          0   \n",
       "1                           1                          0   \n",
       "2                           1                          0   \n",
       "3                           1                          0   \n",
       "4                           1                          0   \n",
       "\n",
       "   cash _flow to _liability__high  cash _flow to _liability__low  \\\n",
       "0                               0                              0   \n",
       "1                               0                              0   \n",
       "2                               0                              0   \n",
       "3                               0                              1   \n",
       "4                               0                              0   \n",
       "\n",
       "   cash _flow to _liability__medium  c_f_o to _assets__high  \\\n",
       "0                                 1                       0   \n",
       "1                                 1                       1   \n",
       "2                                 1                       0   \n",
       "3                                 0                       1   \n",
       "4                                 1                       1   \n",
       "\n",
       "   c_f_o to _assets__low  c_f_o to _assets__medium  \n",
       "0                      0                         1  \n",
       "1                      0                         0  \n",
       "2                      0                         1  \n",
       "3                      0                         0  \n",
       "4                      0                         0  \n",
       "\n",
       "[5 rows x 115 columns]"
      ]
     },
     "execution_count": 4,
     "metadata": {},
     "output_type": "execute_result"
    }
   ],
   "source": [
    "df.columns = [re.sub(r'(?<!^)(?=[A-Z])', '_', name).lower() for name in df.columns]\n",
    "df.head()"
   ]
  },
  {
   "cell_type": "markdown",
   "metadata": {
    "id": "J4GXllPK_eFf"
   },
   "source": [
    "Dimensiones del dataset:"
   ]
  },
  {
   "cell_type": "code",
   "execution_count": 5,
   "metadata": {
    "colab": {
     "base_uri": "https://localhost:8080/"
    },
    "id": "ruDRa5F1hX1X",
    "outputId": "792fec3d-b299-4508-a0da-3cda5e29dae7"
   },
   "outputs": [
    {
     "data": {
      "text/plain": [
       "(6819, 115)"
      ]
     },
     "execution_count": 5,
     "metadata": {},
     "output_type": "execute_result"
    }
   ],
   "source": [
    "df.shape"
   ]
  },
  {
   "cell_type": "code",
   "execution_count": 6,
   "metadata": {
    "colab": {
     "base_uri": "https://localhost:8080/"
    },
    "id": "OoSbhNJTOmJ-",
    "outputId": "22b5bc34-1b77-4ba3-c4fc-25caf55ee75f"
   },
   "outputs": [
    {
     "data": {
      "text/plain": [
       "Index(['bankrupt?',\n",
       "       'r_o_a(_c) before interest and depreciation before interest',\n",
       "       'r_o_a(_a) before interest and % after tax', 'operating _gross _margin',\n",
       "       'operating _profit _rate', 'pre-tax net _interest _rate',\n",
       "       'after-tax net _interest _rate',\n",
       "       'non-industry income and expenditure/revenue',\n",
       "       'continuous interest rate (after tax)', 'operating _expense _rate',\n",
       "       ...\n",
       "       'working _capital/_equity__low', 'working _capital/_equity__medium',\n",
       "       'cash _flow to _sales__high', 'cash _flow to _sales__low',\n",
       "       'cash _flow to _liability__high', 'cash _flow to _liability__low',\n",
       "       'cash _flow to _liability__medium', 'c_f_o to _assets__high',\n",
       "       'c_f_o to _assets__low', 'c_f_o to _assets__medium'],\n",
       "      dtype='object', length=115)"
      ]
     },
     "execution_count": 6,
     "metadata": {},
     "output_type": "execute_result"
    }
   ],
   "source": [
    "df.columns"
   ]
  },
  {
   "cell_type": "markdown",
   "metadata": {
    "id": "6yqZh-pd_UGH"
   },
   "source": [
    "Ver si hay nulos:"
   ]
  },
  {
   "cell_type": "markdown",
   "metadata": {
    "id": "zS_K623pfQx5"
   },
   "source": [
    "Distribución de las clases:"
   ]
  },
  {
   "cell_type": "code",
   "execution_count": 7,
   "metadata": {
    "colab": {
     "base_uri": "https://localhost:8080/",
     "height": 401
    },
    "id": "1_zp37SMbQnV",
    "outputId": "a1214f86-0169-42d8-fcd2-ebb46a89d05c"
   },
   "outputs": [
    {
     "name": "stdout",
     "output_type": "stream",
     "text": [
      "0    6599\n",
      "1     220\n",
      "Name: bankrupt?, dtype: int64\n"
     ]
    },
    {
     "data": {
      "text/plain": [
       "<AxesSubplot:xlabel='bankrupt?', ylabel='count'>"
      ]
     },
     "execution_count": 7,
     "metadata": {},
     "output_type": "execute_result"
    },
    {
     "data": {
      "image/png": "[encoded data removed]",
      "text/plain": [
       "<Figure size 432x288 with 1 Axes>"
      ]
     },
     "metadata": {
      "needs_background": "light"
     },
     "output_type": "display_data"
    }
   ],
   "source": [
    "print(df['bankrupt?'].value_counts())\n",
    "sns.countplot(x=df['bankrupt?'])"
   ]
  },
  {
   "cell_type": "markdown",
   "metadata": {
    "id": "8gY89wN8JYGp"
   },
   "source": [
    "Separacion de X y Y:"
   ]
  },
  {
   "cell_type": "code",
   "execution_count": 8,
   "metadata": {
    "colab": {
     "base_uri": "https://localhost:8080/"
    },
    "id": "hTIJFHUo4e4L",
    "outputId": "70376394-2182-4099-fa61-47566089bfbc"
   },
   "outputs": [
    {
     "name": "stdout",
     "output_type": "stream",
     "text": [
      "(6819, 114) (6819,)\n"
     ]
    }
   ],
   "source": [
    "X = df.drop('bankrupt?', axis=1).values\n",
    "Y = df['bankrupt?'].values\n",
    "print (X.shape , Y.shape)\n",
    "#1"
   ]
  },
  {
   "cell_type": "code",
   "execution_count": 9,
   "metadata": {},
   "outputs": [
    {
     "data": {
      "text/plain": [
       "array([1, 1, 1, ..., 0, 0, 0])"
      ]
     },
     "execution_count": 9,
     "metadata": {},
     "output_type": "execute_result"
    }
   ],
   "source": [
    "Y"
   ]
  },
  {
   "cell_type": "code",
   "execution_count": 10,
   "metadata": {},
   "outputs": [
    {
     "data": {
      "text/plain": [
       "array([[0.37059426, 0.42438945, 0.60145721, ..., 0.        , 0.        ,\n",
       "        1.        ],\n",
       "       [0.46429094, 0.53821413, 0.61023509, ..., 1.        , 0.        ,\n",
       "        0.        ],\n",
       "       [0.42607127, 0.49901875, 0.60145001, ..., 0.        , 0.        ,\n",
       "        1.        ],\n",
       "       ...,\n",
       "       [0.47272461, 0.533744  , 0.61044408, ..., 1.        , 0.        ,\n",
       "        0.        ],\n",
       "       [0.50626432, 0.5599106 , 0.60784964, ..., 1.        , 0.        ,\n",
       "        0.        ],\n",
       "       [0.49305319, 0.57010467, 0.62740887, ..., 0.        , 0.        ,\n",
       "        1.        ]])"
      ]
     },
     "execution_count": 10,
     "metadata": {},
     "output_type": "execute_result"
    }
   ],
   "source": [
    "X"
   ]
  },
  {
   "cell_type": "markdown",
   "metadata": {
    "id": "xivJRqiiy14l"
   },
   "source": [
    "Separacion de test y train: (Para probar codigos y disminuir tiempo de ejecucion)\n",
    "\n",
    "\n",
    "\n"
   ]
  },
  {
   "cell_type": "code",
   "execution_count": 11,
   "metadata": {
    "colab": {
     "base_uri": "https://localhost:8080/"
    },
    "id": "YAXYW5wBAVh-",
    "outputId": "2870ec3e-d467-4b2f-bbda-97c9137f80e6"
   },
   "outputs": [
    {
     "name": "stdout",
     "output_type": "stream",
     "text": [
      "(4773, 114)\n",
      "(2046, 114)\n"
     ]
    }
   ],
   "source": [
    "X_train, X_test, y_train, y_test = train_test_split(X, Y,stratify=Y,test_size=0.30)\n",
    "print(X_train.shape)\n",
    "print(X_test.shape)"
   ]
  },
  {
   "cell_type": "markdown",
   "metadata": {
    "id": "0V57nkzBJ7MW"
   },
   "source": [
    "Funcion para graficar matriz de confusion:\n",
    "\n"
   ]
  },
  {
   "cell_type": "code",
   "execution_count": 12,
   "metadata": {
    "id": "-TMwkTnAVHDM"
   },
   "outputs": [],
   "source": [
    "  #NORMALIZAR\n",
    "def calcularMatrizCF(matrix,titulo):\n",
    "    a = (matrix[0,0] +  matrix[0,1])\n",
    "    b = (matrix[1,0] +  matrix[1,1])\n",
    "    matrix[0,0] =  matrix[0,0] / a\n",
    "    matrix[0,1] =  matrix[0,1] / a\n",
    "    matrix[1,0] =  matrix[1,0] / b\n",
    "    matrix[1,1] =  matrix[1,1] / b\n",
    "    #MATRIZ DE CONFUSION\n",
    "    sns.heatmap(matrix,annot=True)\n",
    "    plt.xlabel('Label Pred')\n",
    "    plt.ylabel('Label True')\n",
    "    plt.title(titulo)\n",
    "    print(matrix)"
   ]
  },
  {
   "cell_type": "code",
   "execution_count": 13,
   "metadata": {},
   "outputs": [],
   "source": [
    "def gradient_boosting_tree(X,y,num_trees):\n",
    "    \n",
    "    skf = StratifiedKFold(n_splits=4)\n",
    "    \n",
    "    resultados = pd.DataFrame()\n",
    "    conf_matrix_list_of_arrays = np.zeros(2)\n",
    "    \n",
    "    idx = 0\n",
    "    \n",
    "    for trees in num_trees:\n",
    "        EficienciaTrain = []\n",
    "        EficienciaVal = []\n",
    "        accuracy = []\n",
    "        Macc = []\n",
    "        Mpre = []\n",
    "        Mrec = []\n",
    "        Mf1 = []\n",
    "        print(f\"Training with {trees} trees...\")\n",
    "        for train_index, test_index in skf.split(X, y):\n",
    "            X_train, X_test = X[train_index], X[test_index]\n",
    "            y_train, y_test = y[train_index], y[test_index]\n",
    "\n",
    "            model = GradientBoostingClassifier(n_estimators=trees)\n",
    "            model.fit(X_train,y_train)\n",
    "\n",
    "            y_pred = model.predict(X_test)\n",
    "            y_pred_train = model.predict(X_train)\n",
    "\n",
    "            conf_matrix = confusion_matrix(y_test,y_pred)\n",
    "            conf_matrix_list_of_arrays = conf_matrix_list_of_arrays + conf_matrix\n",
    "\n",
    "            EficienciaTrain.append(np.mean(y_pred_train.ravel() == y_train.ravel()))\n",
    "            EficienciaVal.append(np.mean(y_pred.ravel() == y_test.ravel()))\n",
    "            accuracy.append(model.score(X_test, y_test))\n",
    "            Macc.append(accuracy_score(y_test, y_pred))\n",
    "            Mpre.append(precision_score(y_test, y_pred))\n",
    "            Mrec.append(recall_score(y_test, y_pred))\n",
    "            Mf1.append(f1_score(y_test, y_pred,average=\"weighted\"))\n",
    "\n",
    "        resultados.loc[idx,'número de arboles'] = trees\n",
    "        resultados.loc[idx,'eficiencia de entrenamiento'] = np.mean(EficienciaTrain)\n",
    "        resultados.loc[idx,'desviacion estandar entrenamiento'] = np.std(EficienciaTrain)\n",
    "        resultados.loc[idx,'eficiencia de prueba'] = np.mean(EficienciaVal)\n",
    "        resultados.loc[idx,'Intervalo de confianza (prueba)'] = np.std(EficienciaVal)\n",
    "        resultados.loc[idx,'accuracy real'] = np.mean(Macc)\n",
    "        resultados.loc[idx,'precision_score'] = np.mean(Mpre)\n",
    "        resultados.loc[idx,'recall_score'] = np.mean(Mrec)\n",
    "        resultados.loc[idx,'f1_score'] = np.mean(Mf1)\n",
    "        idx= idx +1\n",
    "\n",
    "    return (resultados, conf_matrix_list_of_arrays)\n",
    "\n",
    "    "
   ]
  },
  {
   "cell_type": "code",
   "execution_count": 14,
   "metadata": {},
   "outputs": [
    {
     "name": "stdout",
     "output_type": "stream",
     "text": [
      "Training with 20 trees...\n",
      "Training with 50 trees...\n",
      "Training with 100 trees...\n",
      "Training with 200 trees...\n",
      "Training with 300 trees...\n"
     ]
    }
   ],
   "source": [
    "resultados_gbt, matrix_gbt = gradient_boosting_tree(X_train,y_train,[20,50,100,200,300])"
   ]
  },
  {
   "cell_type": "code",
   "execution_count": 15,
   "metadata": {},
   "outputs": [
    {
     "data": {
      "text/html": [
       "<div>\n",
       "<style scoped>\n",
       "    .dataframe tbody tr th:only-of-type {\n",
       "        vertical-align: middle;\n",
       "    }\n",
       "\n",
       "    .dataframe tbody tr th {\n",
       "        vertical-align: top;\n",
       "    }\n",
       "\n",
       "    .dataframe thead th {\n",
       "        text-align: right;\n",
       "    }\n",
       "</style>\n",
       "<table border=\"1\" class=\"dataframe\">\n",
       "  <thead>\n",
       "    <tr style=\"text-align: right;\">\n",
       "      <th></th>\n",
       "      <th>número de arboles</th>\n",
       "      <th>eficiencia de entrenamiento</th>\n",
       "      <th>desviacion estandar entrenamiento</th>\n",
       "      <th>eficiencia de prueba</th>\n",
       "      <th>Intervalo de confianza (prueba)</th>\n",
       "      <th>accuracy real</th>\n",
       "      <th>precision_score</th>\n",
       "      <th>recall_score</th>\n",
       "      <th>f1_score</th>\n",
       "    </tr>\n",
       "  </thead>\n",
       "  <tbody>\n",
       "    <tr>\n",
       "      <th>0</th>\n",
       "      <td>20.0</td>\n",
       "      <td>0.982122</td>\n",
       "      <td>0.000861</td>\n",
       "      <td>0.966478</td>\n",
       "      <td>0.001568</td>\n",
       "      <td>0.966478</td>\n",
       "      <td>0.449747</td>\n",
       "      <td>0.155702</td>\n",
       "      <td>0.958502</td>\n",
       "    </tr>\n",
       "    <tr>\n",
       "      <th>1</th>\n",
       "      <td>50.0</td>\n",
       "      <td>0.990432</td>\n",
       "      <td>0.000913</td>\n",
       "      <td>0.965850</td>\n",
       "      <td>0.003618</td>\n",
       "      <td>0.965850</td>\n",
       "      <td>0.445779</td>\n",
       "      <td>0.227733</td>\n",
       "      <td>0.960412</td>\n",
       "    </tr>\n",
       "    <tr>\n",
       "      <th>2</th>\n",
       "      <td>100.0</td>\n",
       "      <td>0.996368</td>\n",
       "      <td>0.000861</td>\n",
       "      <td>0.965850</td>\n",
       "      <td>0.003618</td>\n",
       "      <td>0.965850</td>\n",
       "      <td>0.455706</td>\n",
       "      <td>0.240553</td>\n",
       "      <td>0.960903</td>\n",
       "    </tr>\n",
       "    <tr>\n",
       "      <th>3</th>\n",
       "      <td>200.0</td>\n",
       "      <td>0.999860</td>\n",
       "      <td>0.000140</td>\n",
       "      <td>0.965221</td>\n",
       "      <td>0.001916</td>\n",
       "      <td>0.965221</td>\n",
       "      <td>0.427191</td>\n",
       "      <td>0.227564</td>\n",
       "      <td>0.960034</td>\n",
       "    </tr>\n",
       "    <tr>\n",
       "      <th>4</th>\n",
       "      <td>300.0</td>\n",
       "      <td>1.000000</td>\n",
       "      <td>0.000000</td>\n",
       "      <td>0.965221</td>\n",
       "      <td>0.001250</td>\n",
       "      <td>0.965221</td>\n",
       "      <td>0.426136</td>\n",
       "      <td>0.227395</td>\n",
       "      <td>0.960010</td>\n",
       "    </tr>\n",
       "  </tbody>\n",
       "</table>\n",
       "</div>"
      ],
      "text/plain": [
       "   número de arboles  eficiencia de entrenamiento  \\\n",
       "0               20.0                     0.982122   \n",
       "1               50.0                     0.990432   \n",
       "2              100.0                     0.996368   \n",
       "3              200.0                     0.999860   \n",
       "4              300.0                     1.000000   \n",
       "\n",
       "   desviacion estandar entrenamiento  eficiencia de prueba  \\\n",
       "0                           0.000861              0.966478   \n",
       "1                           0.000913              0.965850   \n",
       "2                           0.000861              0.965850   \n",
       "3                           0.000140              0.965221   \n",
       "4                           0.000000              0.965221   \n",
       "\n",
       "   Intervalo de confianza (prueba)  accuracy real  precision_score  \\\n",
       "0                         0.001568       0.966478         0.449747   \n",
       "1                         0.003618       0.965850         0.445779   \n",
       "2                         0.003618       0.965850         0.455706   \n",
       "3                         0.001916       0.965221         0.427191   \n",
       "4                         0.001250       0.965221         0.426136   \n",
       "\n",
       "   recall_score  f1_score  \n",
       "0      0.155702  0.958502  \n",
       "1      0.227733  0.960412  \n",
       "2      0.240553  0.960903  \n",
       "3      0.227564  0.960034  \n",
       "4      0.227395  0.960010  "
      ]
     },
     "execution_count": 15,
     "metadata": {},
     "output_type": "execute_result"
    }
   ],
   "source": [
    "resultados_gbt"
   ]
  },
  {
   "cell_type": "code",
   "execution_count": 16,
   "metadata": {},
   "outputs": [
    {
     "name": "stdout",
     "output_type": "stream",
     "text": [
      "[[0.99073393 0.00926607]\n",
      " [0.78441558 0.21558442]]\n"
     ]
    },
    {
     "data": {
      "image/png": "[encoded data removed]",
      "text/plain": [
       "<Figure size 432x288 with 2 Axes>"
      ]
     },
     "metadata": {
      "needs_background": "light"
     },
     "output_type": "display_data"
    }
   ],
   "source": [
    "calcularMatrizCF(matrix_gbt, \"Matriz de confusión GBT\")"
   ]
  },
  {
   "cell_type": "markdown",
   "metadata": {
    "id": "L8eOH1mu_DXL"
   },
   "source": [
    "# SVM (Support Vector Machine)"
   ]
  },
  {
   "cell_type": "code",
   "execution_count": 17,
   "metadata": {
    "id": "J8f80m5__F-y"
   },
   "outputs": [],
   "source": [
    "#ejercicio de código\n",
    "def support_vector_machine(x, y, kernels, gammas,params_reg):\n",
    "    \n",
    "    idx = 0\n",
    "    \n",
    "    kf = StratifiedKFold(n_splits=4)\n",
    "    \n",
    "    # crear una lista con la combinaciones de los elementos de cada list\n",
    "    kernels_gammas_regs = list(itertools.product(kernels, gammas, params_reg))\n",
    "    \n",
    "    resultados = pd.DataFrame()\n",
    "    conf_matrix_list_of_arrays = np.zeros(2)\n",
    "    \n",
    "    for params in kernels_gammas_regs:\n",
    "        kernel, gamma, param_reg = params\n",
    "        ''' print(\"parametros usados\", params) # puede usar para ver los params '''\n",
    "        errores_train = []\n",
    "        errores_test = []\n",
    "        EficienciaVal = []\n",
    "        pct_support_vectors = []\n",
    "        Macc = []\n",
    "        Mpre = []\n",
    "        Mrec = []\n",
    "        Mf1 = []\n",
    "        print(f\"Running with Kernel: {kernel}, Gamma: {gamma}, C: {param_reg} parameters...\")\n",
    "        for train_index, test_index in kf.split(x,y):\n",
    "            X_train, X_test = x[train_index], x[test_index]\n",
    "            y_train, y_test = y[train_index], y[test_index]  \n",
    "   \n",
    "            svm = SVC(kernel=kernel, gamma=gamma, C= param_reg)\n",
    "            # Entrenar el modelo\n",
    "            svm.fit(X=X_train, y=y_train)\n",
    "            # calculo de errores\n",
    "            \n",
    "            y_train_pred = svm.predict(X=X_train)\n",
    "            y_test_pred = svm.predict(X=X_test)\n",
    "            \n",
    "            conf_matrix = confusion_matrix(y_test, svm.predict(X_test))\n",
    "            conf_matrix_list_of_arrays = conf_matrix_list_of_arrays + conf_matrix\n",
    "            \n",
    "            # error y pct de vectores de soporte\n",
    "            errores_train.append(accuracy_score(y_true = y_train, y_pred = y_train_pred))\n",
    "            errores_test.append(accuracy_score(y_true = y_test, y_pred = y_test_pred))\n",
    "            \n",
    "            # contar muestras de entrenamiento\n",
    "            n_train = X_train.shape[0]\n",
    "            pct_vs = ( svm.support_vectors_.shape[0] /n_train)\n",
    "            pct_support_vectors.append(pct_vs)\n",
    "            \n",
    "            Macc.append(accuracy_score(y_test, y_test_pred))\n",
    "            Mpre.append(precision_score(y_test, y_test_pred))\n",
    "            Mrec.append(recall_score(y_test, y_test_pred))\n",
    "            Mf1.append(f1_score(y_test, y_test_pred,average=\"weighted\",labels=np.unique(y_test_pred)))\n",
    "            EficienciaVal.append(np.mean(y_test_pred.ravel() == y_test.ravel()))\n",
    "\n",
    "    \n",
    "        resultados.loc[idx,'kernel'] = kernel\n",
    "        resultados.loc[idx,'gamma'] = gamma\n",
    "        resultados.loc[idx,'param_reg'] = param_reg\n",
    "        resultados.loc[idx,'error de entrenamiento'] = np.mean(errores_train)\n",
    "        resultados.loc[idx,'error de prueba'] = np.mean(errores_test)\n",
    "        resultados.loc[idx,'% de vectores de soporte'] = np.mean(pct_support_vectors)*100\n",
    "        resultados.loc[idx,'accuracy real'] = np.mean(Macc)\n",
    "        resultados.loc[idx,'Intervalo de confianza (prueba)'] = np.std(EficienciaVal)\n",
    "        resultados.loc[idx,'precision_score'] = np.mean(Mpre)\n",
    "        resultados.loc[idx,'recall_score'] = np.mean(Mrec)\n",
    "        resultados.loc[idx,'f1_score'] = np.mean(Mf1)\n",
    "\n",
    "        idx+=1\n",
    "    return (resultados, conf_matrix_list_of_arrays)"
   ]
  },
  {
   "cell_type": "raw",
   "metadata": {
    "colab": {
     "base_uri": "https://localhost:8080/",
     "height": 647
    },
    "id": "UiDizg6__ISQ",
    "outputId": "824116d0-eae0-4cbb-e43e-84bfa4f7a2c7"
   },
   "source": [
    "# vamos a realizar los experimentos\n",
    "resultados_svm, matrix_svm = support_vector_machine(x =X ,y=Y,\n",
    "                                 kernels=['linear', 'rbf'],\n",
    "                                 gammas = [0.01,0.1],\n",
    "                                 params_reg = [0.001, 0.01,0.1, 1,10]\n",
    "                                )\n",
    "\n",
    "resultados_svm\n"
   ]
  },
  {
   "cell_type": "markdown",
   "metadata": {
    "id": "tPFWVvuD-_UF"
   },
   "source": [
    "Mejor resultado SVM"
   ]
  },
  {
   "cell_type": "code",
   "execution_count": 18,
   "metadata": {
    "colab": {
     "base_uri": "https://localhost:8080/",
     "height": 77
    },
    "id": "hSj3wjstD5qU",
    "outputId": "a52cefbc-e755-4755-e145-e34a44706dca"
   },
   "outputs": [
    {
     "name": "stdout",
     "output_type": "stream",
     "text": [
      "Running with Kernel: rbf, Gamma: 0.01, C: 0.01 parameters...\n"
     ]
    },
    {
     "data": {
      "text/html": [
       "<div>\n",
       "<style scoped>\n",
       "    .dataframe tbody tr th:only-of-type {\n",
       "        vertical-align: middle;\n",
       "    }\n",
       "\n",
       "    .dataframe tbody tr th {\n",
       "        vertical-align: top;\n",
       "    }\n",
       "\n",
       "    .dataframe thead th {\n",
       "        text-align: right;\n",
       "    }\n",
       "</style>\n",
       "<table border=\"1\" class=\"dataframe\">\n",
       "  <thead>\n",
       "    <tr style=\"text-align: right;\">\n",
       "      <th></th>\n",
       "      <th>kernel</th>\n",
       "      <th>gamma</th>\n",
       "      <th>param_reg</th>\n",
       "      <th>error de entrenamiento</th>\n",
       "      <th>error de prueba</th>\n",
       "      <th>% de vectores de soporte</th>\n",
       "      <th>accuracy real</th>\n",
       "      <th>Intervalo de confianza (prueba)</th>\n",
       "      <th>precision_score</th>\n",
       "      <th>recall_score</th>\n",
       "      <th>f1_score</th>\n",
       "    </tr>\n",
       "  </thead>\n",
       "  <tbody>\n",
       "    <tr>\n",
       "      <th>0</th>\n",
       "      <td>rbf</td>\n",
       "      <td>0.01</td>\n",
       "      <td>0.01</td>\n",
       "      <td>0.967737</td>\n",
       "      <td>0.967737</td>\n",
       "      <td>54.846752</td>\n",
       "      <td>0.967737</td>\n",
       "      <td>0.000008</td>\n",
       "      <td>0.0</td>\n",
       "      <td>0.0</td>\n",
       "      <td>0.983604</td>\n",
       "    </tr>\n",
       "  </tbody>\n",
       "</table>\n",
       "</div>"
      ],
      "text/plain": [
       "  kernel  gamma  param_reg  error de entrenamiento  error de prueba  \\\n",
       "0    rbf   0.01       0.01                0.967737         0.967737   \n",
       "\n",
       "   % de vectores de soporte  accuracy real  Intervalo de confianza (prueba)  \\\n",
       "0                 54.846752       0.967737                         0.000008   \n",
       "\n",
       "   precision_score  recall_score  f1_score  \n",
       "0              0.0           0.0  0.983604  "
      ]
     },
     "execution_count": 18,
     "metadata": {},
     "output_type": "execute_result"
    }
   ],
   "source": [
    "# vamos a realizar los experimentos\n",
    "resultados_svm, matrix_svm  = support_vector_machine(x = X,y=Y,\n",
    "                                 kernels=['rbf'],\n",
    "                                 gammas = [0.01],\n",
    "                                 params_reg = [0.01]\n",
    "                                )\n",
    "resultados_svm"
   ]
  },
  {
   "cell_type": "code",
   "execution_count": 19,
   "metadata": {},
   "outputs": [
    {
     "data": {
      "text/plain": [
       "array([[6599.,    0.],\n",
       "       [ 220.,    0.]])"
      ]
     },
     "execution_count": 19,
     "metadata": {},
     "output_type": "execute_result"
    }
   ],
   "source": [
    "matrix_svm"
   ]
  },
  {
   "cell_type": "markdown",
   "metadata": {
    "id": "zjAOvbi7-DOj"
   },
   "source": [
    "Matriz de confusión SVM"
   ]
  },
  {
   "cell_type": "code",
   "execution_count": 20,
   "metadata": {
    "colab": {
     "base_uri": "https://localhost:8080/",
     "height": 329
    },
    "id": "1QjneZVMGCKn",
    "outputId": "f52ca484-b68d-437d-c458-30a5b76dd5b7"
   },
   "outputs": [
    {
     "name": "stdout",
     "output_type": "stream",
     "text": [
      "[[1. 0.]\n",
      " [1. 0.]]\n"
     ]
    },
    {
     "data": {
      "image/png": "[encoded data removed]",
      "text/plain": [
       "<Figure size 432x288 with 2 Axes>"
      ]
     },
     "metadata": {
      "needs_background": "light"
     },
     "output_type": "display_data"
    }
   ],
   "source": [
    "calcularMatrizCF(matrix_svm, \"Matriz de confusión SVM\")"
   ]
  },
  {
   "cell_type": "markdown",
   "metadata": {
    "id": "2YxT6h0bWWAB"
   },
   "source": [
    "# RF (Random Forest)\n"
   ]
  },
  {
   "cell_type": "code",
   "execution_count": 21,
   "metadata": {
    "id": "JqjHkDikWYg6"
   },
   "outputs": [],
   "source": [
    "#ejercicio de código\n",
    "def random_forest(num_trees,numero_de_variables, X, Y):\n",
    "    folds = 4\n",
    "    skf = StratifiedKFold(n_splits=folds)\n",
    "    resultados = pd.DataFrame()\n",
    "    idx = 0\n",
    "    conf_matrix_list_of_arrays = np.zeros(2)\n",
    "    \n",
    "    for trees in num_trees:\n",
    "        \n",
    "        for num_variables in numero_de_variables:\n",
    "            ## para almacenar los errores intermedios\n",
    "            EficienciaTrain = []\n",
    "            EficienciaVal = []\n",
    "            Macc = []\n",
    "            Mpre = []\n",
    "            Mrec = []\n",
    "            Mf1 = []\n",
    "            for train, test in skf.split(X, Y):\n",
    "                Xtrain = X[train,:]\n",
    "                Ytrain = Y[train]\n",
    "                Xtest = X[test,:]\n",
    "                Ytest = Y[test]\n",
    "                #Haga el llamado a la función para crear y entrenar el modelo usando los datos de entrenamiento\n",
    "                modelo = RandomForestClassifier(n_estimators=trees, max_features=num_variables, criterion=\"gini\")\n",
    "                modelo.fit(Xtrain,Ytrain)\n",
    "                #predecir muestras de entrenamiento\n",
    "                Ytrain_pred = modelo.predict(Xtrain)\n",
    "                #predecir muestras de pruebas\n",
    "                Yest = modelo.predict(Xtest)\n",
    "                #Evaluamos las predicciones del modelo con los datos de test\n",
    "                EficienciaTrain.append(np.mean(Ytrain_pred.ravel() == Ytrain.ravel()))\n",
    "                EficienciaVal.append(np.mean(Yest.ravel() == Ytest.ravel()))\n",
    "                conf_matrix = confusion_matrix(Ytest, modelo.predict(Xtest))\n",
    "                conf_matrix_list_of_arrays = conf_matrix_list_of_arrays + conf_matrix\n",
    "                Macc.append(accuracy_score(Ytest, Yest))\n",
    "                Mpre.append(precision_score(Ytest, Yest))\n",
    "                Mrec.append(recall_score(Ytest, Yest))\n",
    "                Mf1.append(f1_score(Ytest, Yest))\n",
    "\n",
    "\n",
    "\n",
    "            resultados.loc[idx,'número de arboles'] = trees\n",
    "            resultados.loc[idx,'variables para la selección del mejor umbral'] = num_variables\n",
    "            resultados.loc[idx,'eficiencia de entrenamiento'] = np.mean(EficienciaTrain)\n",
    "            resultados.loc[idx,'desviacion estandar entrenamiento'] = np.std(EficienciaTrain)\n",
    "            resultados.loc[idx,'eficiencia de prueba'] = np.mean(EficienciaVal)\n",
    "            resultados.loc[idx,'Intervalo de confianza (prueba)'] = np.std(EficienciaVal)\n",
    "            resultados.loc[idx,'accuracy real'] = np.mean(Macc)\n",
    "            resultados.loc[idx,'precision_score'] = np.mean(Mpre)\n",
    "            resultados.loc[idx,'recall_score'] = np.mean(Mrec)\n",
    "            resultados.loc[idx,'f1_score'] = np.mean(Mf1)\n",
    "            idx= idx +1\n",
    "        print(f\"Termina para {trees} arboles\")\n",
    "        \n",
    "    return (resultados, conf_matrix_list_of_arrays)"
   ]
  },
  {
   "cell_type": "markdown",
   "metadata": {
    "id": "QH7cYr3D-mQW"
   },
   "source": [
    "Resultados Random Forest"
   ]
  },
  {
   "cell_type": "code",
   "execution_count": 22,
   "metadata": {
    "colab": {
     "base_uri": "https://localhost:8080/",
     "height": 1000
    },
    "id": "gbxibfrGWg_s",
    "outputId": "1f2d89e0-54da-4e32-bb0f-108c579eb2b0"
   },
   "outputs": [
    {
     "name": "stdout",
     "output_type": "stream",
     "text": [
      "Termina para 5 arboles\n",
      "Termina para 10 arboles\n",
      "Termina para 20 arboles\n",
      "Termina para 50 arboles\n",
      "Termina para 100 arboles\n",
      "Termina para 150 arboles\n"
     ]
    },
    {
     "data": {
      "text/html": [
       "<div>\n",
       "<style scoped>\n",
       "    .dataframe tbody tr th:only-of-type {\n",
       "        vertical-align: middle;\n",
       "    }\n",
       "\n",
       "    .dataframe tbody tr th {\n",
       "        vertical-align: top;\n",
       "    }\n",
       "\n",
       "    .dataframe thead th {\n",
       "        text-align: right;\n",
       "    }\n",
       "</style>\n",
       "<table border=\"1\" class=\"dataframe\">\n",
       "  <thead>\n",
       "    <tr style=\"text-align: right;\">\n",
       "      <th></th>\n",
       "      <th>número de arboles</th>\n",
       "      <th>variables para la selección del mejor umbral</th>\n",
       "      <th>eficiencia de entrenamiento</th>\n",
       "      <th>desviacion estandar entrenamiento</th>\n",
       "      <th>eficiencia de prueba</th>\n",
       "      <th>Intervalo de confianza (prueba)</th>\n",
       "      <th>accuracy real</th>\n",
       "      <th>precision_score</th>\n",
       "      <th>recall_score</th>\n",
       "      <th>f1_score</th>\n",
       "    </tr>\n",
       "  </thead>\n",
       "  <tbody>\n",
       "    <tr>\n",
       "      <th>0</th>\n",
       "      <td>5.0</td>\n",
       "      <td>5.0</td>\n",
       "      <td>0.995943</td>\n",
       "      <td>0.000487</td>\n",
       "      <td>0.954834</td>\n",
       "      <td>0.017459</td>\n",
       "      <td>0.954834</td>\n",
       "      <td>0.361304</td>\n",
       "      <td>0.181818</td>\n",
       "      <td>0.217020</td>\n",
       "    </tr>\n",
       "    <tr>\n",
       "      <th>1</th>\n",
       "      <td>5.0</td>\n",
       "      <td>10.0</td>\n",
       "      <td>0.995552</td>\n",
       "      <td>0.000576</td>\n",
       "      <td>0.952928</td>\n",
       "      <td>0.019277</td>\n",
       "      <td>0.952928</td>\n",
       "      <td>0.336418</td>\n",
       "      <td>0.154545</td>\n",
       "      <td>0.190198</td>\n",
       "    </tr>\n",
       "    <tr>\n",
       "      <th>2</th>\n",
       "      <td>5.0</td>\n",
       "      <td>15.0</td>\n",
       "      <td>0.995405</td>\n",
       "      <td>0.000324</td>\n",
       "      <td>0.953074</td>\n",
       "      <td>0.020989</td>\n",
       "      <td>0.953074</td>\n",
       "      <td>0.350198</td>\n",
       "      <td>0.236364</td>\n",
       "      <td>0.262481</td>\n",
       "    </tr>\n",
       "    <tr>\n",
       "      <th>3</th>\n",
       "      <td>5.0</td>\n",
       "      <td>20.0</td>\n",
       "      <td>0.995796</td>\n",
       "      <td>0.000751</td>\n",
       "      <td>0.958794</td>\n",
       "      <td>0.015632</td>\n",
       "      <td>0.958794</td>\n",
       "      <td>0.466320</td>\n",
       "      <td>0.277273</td>\n",
       "      <td>0.317822</td>\n",
       "    </tr>\n",
       "    <tr>\n",
       "      <th>4</th>\n",
       "      <td>5.0</td>\n",
       "      <td>25.0</td>\n",
       "      <td>0.995992</td>\n",
       "      <td>0.000788</td>\n",
       "      <td>0.951755</td>\n",
       "      <td>0.023790</td>\n",
       "      <td>0.951755</td>\n",
       "      <td>0.376125</td>\n",
       "      <td>0.195455</td>\n",
       "      <td>0.225425</td>\n",
       "    </tr>\n",
       "    <tr>\n",
       "      <th>5</th>\n",
       "      <td>10.0</td>\n",
       "      <td>5.0</td>\n",
       "      <td>0.996432</td>\n",
       "      <td>0.000683</td>\n",
       "      <td>0.963192</td>\n",
       "      <td>0.008847</td>\n",
       "      <td>0.963192</td>\n",
       "      <td>0.452890</td>\n",
       "      <td>0.140909</td>\n",
       "      <td>0.196942</td>\n",
       "    </tr>\n",
       "    <tr>\n",
       "      <th>6</th>\n",
       "      <td>10.0</td>\n",
       "      <td>10.0</td>\n",
       "      <td>0.996432</td>\n",
       "      <td>0.000289</td>\n",
       "      <td>0.955861</td>\n",
       "      <td>0.019291</td>\n",
       "      <td>0.955861</td>\n",
       "      <td>0.478898</td>\n",
       "      <td>0.109091</td>\n",
       "      <td>0.136375</td>\n",
       "    </tr>\n",
       "    <tr>\n",
       "      <th>7</th>\n",
       "      <td>10.0</td>\n",
       "      <td>15.0</td>\n",
       "      <td>0.996529</td>\n",
       "      <td>0.000506</td>\n",
       "      <td>0.955714</td>\n",
       "      <td>0.024242</td>\n",
       "      <td>0.955714</td>\n",
       "      <td>0.507653</td>\n",
       "      <td>0.154545</td>\n",
       "      <td>0.217317</td>\n",
       "    </tr>\n",
       "    <tr>\n",
       "      <th>8</th>\n",
       "      <td>10.0</td>\n",
       "      <td>20.0</td>\n",
       "      <td>0.996187</td>\n",
       "      <td>0.000982</td>\n",
       "      <td>0.959673</td>\n",
       "      <td>0.017074</td>\n",
       "      <td>0.959673</td>\n",
       "      <td>0.482802</td>\n",
       "      <td>0.190909</td>\n",
       "      <td>0.252110</td>\n",
       "    </tr>\n",
       "    <tr>\n",
       "      <th>9</th>\n",
       "      <td>10.0</td>\n",
       "      <td>25.0</td>\n",
       "      <td>0.995943</td>\n",
       "      <td>0.000749</td>\n",
       "      <td>0.954834</td>\n",
       "      <td>0.020233</td>\n",
       "      <td>0.954834</td>\n",
       "      <td>0.459276</td>\n",
       "      <td>0.109091</td>\n",
       "      <td>0.137306</td>\n",
       "    </tr>\n",
       "    <tr>\n",
       "      <th>10</th>\n",
       "      <td>20.0</td>\n",
       "      <td>5.0</td>\n",
       "      <td>0.998534</td>\n",
       "      <td>0.000098</td>\n",
       "      <td>0.962312</td>\n",
       "      <td>0.008590</td>\n",
       "      <td>0.962312</td>\n",
       "      <td>0.482105</td>\n",
       "      <td>0.104545</td>\n",
       "      <td>0.150060</td>\n",
       "    </tr>\n",
       "    <tr>\n",
       "      <th>11</th>\n",
       "      <td>20.0</td>\n",
       "      <td>10.0</td>\n",
       "      <td>0.998485</td>\n",
       "      <td>0.000289</td>\n",
       "      <td>0.959380</td>\n",
       "      <td>0.013406</td>\n",
       "      <td>0.959380</td>\n",
       "      <td>0.439597</td>\n",
       "      <td>0.136364</td>\n",
       "      <td>0.184343</td>\n",
       "    </tr>\n",
       "    <tr>\n",
       "      <th>12</th>\n",
       "      <td>20.0</td>\n",
       "      <td>15.0</td>\n",
       "      <td>0.998436</td>\n",
       "      <td>0.000437</td>\n",
       "      <td>0.957767</td>\n",
       "      <td>0.016319</td>\n",
       "      <td>0.957767</td>\n",
       "      <td>0.491358</td>\n",
       "      <td>0.136364</td>\n",
       "      <td>0.178565</td>\n",
       "    </tr>\n",
       "    <tr>\n",
       "      <th>13</th>\n",
       "      <td>20.0</td>\n",
       "      <td>20.0</td>\n",
       "      <td>0.998289</td>\n",
       "      <td>0.000423</td>\n",
       "      <td>0.958940</td>\n",
       "      <td>0.014291</td>\n",
       "      <td>0.958940</td>\n",
       "      <td>0.392202</td>\n",
       "      <td>0.113636</td>\n",
       "      <td>0.161866</td>\n",
       "    </tr>\n",
       "    <tr>\n",
       "      <th>14</th>\n",
       "      <td>20.0</td>\n",
       "      <td>25.0</td>\n",
       "      <td>0.998045</td>\n",
       "      <td>0.000603</td>\n",
       "      <td>0.952781</td>\n",
       "      <td>0.025402</td>\n",
       "      <td>0.952781</td>\n",
       "      <td>0.444648</td>\n",
       "      <td>0.154545</td>\n",
       "      <td>0.191192</td>\n",
       "    </tr>\n",
       "    <tr>\n",
       "      <th>15</th>\n",
       "      <td>50.0</td>\n",
       "      <td>5.0</td>\n",
       "      <td>0.999756</td>\n",
       "      <td>0.000085</td>\n",
       "      <td>0.963485</td>\n",
       "      <td>0.007670</td>\n",
       "      <td>0.963485</td>\n",
       "      <td>0.506349</td>\n",
       "      <td>0.104545</td>\n",
       "      <td>0.154752</td>\n",
       "    </tr>\n",
       "    <tr>\n",
       "      <th>16</th>\n",
       "      <td>50.0</td>\n",
       "      <td>10.0</td>\n",
       "      <td>0.999707</td>\n",
       "      <td>0.000219</td>\n",
       "      <td>0.957913</td>\n",
       "      <td>0.016967</td>\n",
       "      <td>0.957913</td>\n",
       "      <td>0.519539</td>\n",
       "      <td>0.131818</td>\n",
       "      <td>0.174537</td>\n",
       "    </tr>\n",
       "    <tr>\n",
       "      <th>17</th>\n",
       "      <td>50.0</td>\n",
       "      <td>15.0</td>\n",
       "      <td>0.999853</td>\n",
       "      <td>0.000162</td>\n",
       "      <td>0.956007</td>\n",
       "      <td>0.020533</td>\n",
       "      <td>0.956007</td>\n",
       "      <td>0.519834</td>\n",
       "      <td>0.127273</td>\n",
       "      <td>0.164420</td>\n",
       "    </tr>\n",
       "    <tr>\n",
       "      <th>18</th>\n",
       "      <td>50.0</td>\n",
       "      <td>20.0</td>\n",
       "      <td>1.000000</td>\n",
       "      <td>0.000000</td>\n",
       "      <td>0.955714</td>\n",
       "      <td>0.021421</td>\n",
       "      <td>0.955714</td>\n",
       "      <td>0.427195</td>\n",
       "      <td>0.159091</td>\n",
       "      <td>0.203932</td>\n",
       "    </tr>\n",
       "    <tr>\n",
       "      <th>19</th>\n",
       "      <td>50.0</td>\n",
       "      <td>25.0</td>\n",
       "      <td>0.999756</td>\n",
       "      <td>0.000162</td>\n",
       "      <td>0.954394</td>\n",
       "      <td>0.021798</td>\n",
       "      <td>0.954394</td>\n",
       "      <td>0.454104</td>\n",
       "      <td>0.172727</td>\n",
       "      <td>0.211467</td>\n",
       "    </tr>\n",
       "    <tr>\n",
       "      <th>20</th>\n",
       "      <td>100.0</td>\n",
       "      <td>5.0</td>\n",
       "      <td>0.999902</td>\n",
       "      <td>0.000098</td>\n",
       "      <td>0.961872</td>\n",
       "      <td>0.010307</td>\n",
       "      <td>0.961872</td>\n",
       "      <td>0.517507</td>\n",
       "      <td>0.113636</td>\n",
       "      <td>0.165066</td>\n",
       "    </tr>\n",
       "    <tr>\n",
       "      <th>21</th>\n",
       "      <td>100.0</td>\n",
       "      <td>10.0</td>\n",
       "      <td>0.999951</td>\n",
       "      <td>0.000085</td>\n",
       "      <td>0.957767</td>\n",
       "      <td>0.018674</td>\n",
       "      <td>0.957767</td>\n",
       "      <td>0.546675</td>\n",
       "      <td>0.131818</td>\n",
       "      <td>0.181448</td>\n",
       "    </tr>\n",
       "    <tr>\n",
       "      <th>22</th>\n",
       "      <td>100.0</td>\n",
       "      <td>15.0</td>\n",
       "      <td>1.000000</td>\n",
       "      <td>0.000000</td>\n",
       "      <td>0.954834</td>\n",
       "      <td>0.019669</td>\n",
       "      <td>0.954834</td>\n",
       "      <td>0.461161</td>\n",
       "      <td>0.131818</td>\n",
       "      <td>0.167715</td>\n",
       "    </tr>\n",
       "    <tr>\n",
       "      <th>23</th>\n",
       "      <td>100.0</td>\n",
       "      <td>20.0</td>\n",
       "      <td>1.000000</td>\n",
       "      <td>0.000000</td>\n",
       "      <td>0.957913</td>\n",
       "      <td>0.017981</td>\n",
       "      <td>0.957913</td>\n",
       "      <td>0.533425</td>\n",
       "      <td>0.168182</td>\n",
       "      <td>0.211194</td>\n",
       "    </tr>\n",
       "    <tr>\n",
       "      <th>24</th>\n",
       "      <td>100.0</td>\n",
       "      <td>25.0</td>\n",
       "      <td>1.000000</td>\n",
       "      <td>0.000000</td>\n",
       "      <td>0.957034</td>\n",
       "      <td>0.020244</td>\n",
       "      <td>0.957034</td>\n",
       "      <td>0.528684</td>\n",
       "      <td>0.163636</td>\n",
       "      <td>0.215000</td>\n",
       "    </tr>\n",
       "    <tr>\n",
       "      <th>25</th>\n",
       "      <td>150.0</td>\n",
       "      <td>5.0</td>\n",
       "      <td>1.000000</td>\n",
       "      <td>0.000000</td>\n",
       "      <td>0.962752</td>\n",
       "      <td>0.009833</td>\n",
       "      <td>0.962752</td>\n",
       "      <td>0.550911</td>\n",
       "      <td>0.109091</td>\n",
       "      <td>0.160512</td>\n",
       "    </tr>\n",
       "    <tr>\n",
       "      <th>26</th>\n",
       "      <td>150.0</td>\n",
       "      <td>10.0</td>\n",
       "      <td>1.000000</td>\n",
       "      <td>0.000000</td>\n",
       "      <td>0.960406</td>\n",
       "      <td>0.013464</td>\n",
       "      <td>0.960406</td>\n",
       "      <td>0.526517</td>\n",
       "      <td>0.145455</td>\n",
       "      <td>0.198877</td>\n",
       "    </tr>\n",
       "    <tr>\n",
       "      <th>27</th>\n",
       "      <td>150.0</td>\n",
       "      <td>15.0</td>\n",
       "      <td>1.000000</td>\n",
       "      <td>0.000000</td>\n",
       "      <td>0.957034</td>\n",
       "      <td>0.020189</td>\n",
       "      <td>0.957034</td>\n",
       "      <td>0.533044</td>\n",
       "      <td>0.159091</td>\n",
       "      <td>0.209814</td>\n",
       "    </tr>\n",
       "    <tr>\n",
       "      <th>28</th>\n",
       "      <td>150.0</td>\n",
       "      <td>20.0</td>\n",
       "      <td>1.000000</td>\n",
       "      <td>0.000000</td>\n",
       "      <td>0.957034</td>\n",
       "      <td>0.020785</td>\n",
       "      <td>0.957034</td>\n",
       "      <td>0.553662</td>\n",
       "      <td>0.154545</td>\n",
       "      <td>0.202821</td>\n",
       "    </tr>\n",
       "    <tr>\n",
       "      <th>29</th>\n",
       "      <td>150.0</td>\n",
       "      <td>25.0</td>\n",
       "      <td>1.000000</td>\n",
       "      <td>0.000000</td>\n",
       "      <td>0.955861</td>\n",
       "      <td>0.022243</td>\n",
       "      <td>0.955861</td>\n",
       "      <td>0.526019</td>\n",
       "      <td>0.145455</td>\n",
       "      <td>0.200445</td>\n",
       "    </tr>\n",
       "  </tbody>\n",
       "</table>\n",
       "</div>"
      ],
      "text/plain": [
       "    número de arboles  variables para la selección del mejor umbral  \\\n",
       "0                 5.0                                           5.0   \n",
       "1                 5.0                                          10.0   \n",
       "2                 5.0                                          15.0   \n",
       "3                 5.0                                          20.0   \n",
       "4                 5.0                                          25.0   \n",
       "5                10.0                                           5.0   \n",
       "6                10.0                                          10.0   \n",
       "7                10.0                                          15.0   \n",
       "8                10.0                                          20.0   \n",
       "9                10.0                                          25.0   \n",
       "10               20.0                                           5.0   \n",
       "11               20.0                                          10.0   \n",
       "12               20.0                                          15.0   \n",
       "13               20.0                                          20.0   \n",
       "14               20.0                                          25.0   \n",
       "15               50.0                                           5.0   \n",
       "16               50.0                                          10.0   \n",
       "17               50.0                                          15.0   \n",
       "18               50.0                                          20.0   \n",
       "19               50.0                                          25.0   \n",
       "20              100.0                                           5.0   \n",
       "21              100.0                                          10.0   \n",
       "22              100.0                                          15.0   \n",
       "23              100.0                                          20.0   \n",
       "24              100.0                                          25.0   \n",
       "25              150.0                                           5.0   \n",
       "26              150.0                                          10.0   \n",
       "27              150.0                                          15.0   \n",
       "28              150.0                                          20.0   \n",
       "29              150.0                                          25.0   \n",
       "\n",
       "    eficiencia de entrenamiento  desviacion estandar entrenamiento  \\\n",
       "0                      0.995943                           0.000487   \n",
       "1                      0.995552                           0.000576   \n",
       "2                      0.995405                           0.000324   \n",
       "3                      0.995796                           0.000751   \n",
       "4                      0.995992                           0.000788   \n",
       "5                      0.996432                           0.000683   \n",
       "6                      0.996432                           0.000289   \n",
       "7                      0.996529                           0.000506   \n",
       "8                      0.996187                           0.000982   \n",
       "9                      0.995943                           0.000749   \n",
       "10                     0.998534                           0.000098   \n",
       "11                     0.998485                           0.000289   \n",
       "12                     0.998436                           0.000437   \n",
       "13                     0.998289                           0.000423   \n",
       "14                     0.998045                           0.000603   \n",
       "15                     0.999756                           0.000085   \n",
       "16                     0.999707                           0.000219   \n",
       "17                     0.999853                           0.000162   \n",
       "18                     1.000000                           0.000000   \n",
       "19                     0.999756                           0.000162   \n",
       "20                     0.999902                           0.000098   \n",
       "21                     0.999951                           0.000085   \n",
       "22                     1.000000                           0.000000   \n",
       "23                     1.000000                           0.000000   \n",
       "24                     1.000000                           0.000000   \n",
       "25                     1.000000                           0.000000   \n",
       "26                     1.000000                           0.000000   \n",
       "27                     1.000000                           0.000000   \n",
       "28                     1.000000                           0.000000   \n",
       "29                     1.000000                           0.000000   \n",
       "\n",
       "    eficiencia de prueba  Intervalo de confianza (prueba)  accuracy real  \\\n",
       "0               0.954834                         0.017459       0.954834   \n",
       "1               0.952928                         0.019277       0.952928   \n",
       "2               0.953074                         0.020989       0.953074   \n",
       "3               0.958794                         0.015632       0.958794   \n",
       "4               0.951755                         0.023790       0.951755   \n",
       "5               0.963192                         0.008847       0.963192   \n",
       "6               0.955861                         0.019291       0.955861   \n",
       "7               0.955714                         0.024242       0.955714   \n",
       "8               0.959673                         0.017074       0.959673   \n",
       "9               0.954834                         0.020233       0.954834   \n",
       "10              0.962312                         0.008590       0.962312   \n",
       "11              0.959380                         0.013406       0.959380   \n",
       "12              0.957767                         0.016319       0.957767   \n",
       "13              0.958940                         0.014291       0.958940   \n",
       "14              0.952781                         0.025402       0.952781   \n",
       "15              0.963485                         0.007670       0.963485   \n",
       "16              0.957913                         0.016967       0.957913   \n",
       "17              0.956007                         0.020533       0.956007   \n",
       "18              0.955714                         0.021421       0.955714   \n",
       "19              0.954394                         0.021798       0.954394   \n",
       "20              0.961872                         0.010307       0.961872   \n",
       "21              0.957767                         0.018674       0.957767   \n",
       "22              0.954834                         0.019669       0.954834   \n",
       "23              0.957913                         0.017981       0.957913   \n",
       "24              0.957034                         0.020244       0.957034   \n",
       "25              0.962752                         0.009833       0.962752   \n",
       "26              0.960406                         0.013464       0.960406   \n",
       "27              0.957034                         0.020189       0.957034   \n",
       "28              0.957034                         0.020785       0.957034   \n",
       "29              0.955861                         0.022243       0.955861   \n",
       "\n",
       "    precision_score  recall_score  f1_score  \n",
       "0          0.361304      0.181818  0.217020  \n",
       "1          0.336418      0.154545  0.190198  \n",
       "2          0.350198      0.236364  0.262481  \n",
       "3          0.466320      0.277273  0.317822  \n",
       "4          0.376125      0.195455  0.225425  \n",
       "5          0.452890      0.140909  0.196942  \n",
       "6          0.478898      0.109091  0.136375  \n",
       "7          0.507653      0.154545  0.217317  \n",
       "8          0.482802      0.190909  0.252110  \n",
       "9          0.459276      0.109091  0.137306  \n",
       "10         0.482105      0.104545  0.150060  \n",
       "11         0.439597      0.136364  0.184343  \n",
       "12         0.491358      0.136364  0.178565  \n",
       "13         0.392202      0.113636  0.161866  \n",
       "14         0.444648      0.154545  0.191192  \n",
       "15         0.506349      0.104545  0.154752  \n",
       "16         0.519539      0.131818  0.174537  \n",
       "17         0.519834      0.127273  0.164420  \n",
       "18         0.427195      0.159091  0.203932  \n",
       "19         0.454104      0.172727  0.211467  \n",
       "20         0.517507      0.113636  0.165066  \n",
       "21         0.546675      0.131818  0.181448  \n",
       "22         0.461161      0.131818  0.167715  \n",
       "23         0.533425      0.168182  0.211194  \n",
       "24         0.528684      0.163636  0.215000  \n",
       "25         0.550911      0.109091  0.160512  \n",
       "26         0.526517      0.145455  0.198877  \n",
       "27         0.533044      0.159091  0.209814  \n",
       "28         0.553662      0.154545  0.202821  \n",
       "29         0.526019      0.145455  0.200445  "
      ]
     },
     "execution_count": 22,
     "metadata": {},
     "output_type": "execute_result"
    }
   ],
   "source": [
    "arboles = [5,10,20,50,100, 150]\n",
    "variables_seleccion = [5,10,15,20,25]\n",
    "resultados_rf, matrixRF= random_forest(arboles, variables_seleccion, X, Y)\n",
    "resultados_rf"
   ]
  },
  {
   "cell_type": "markdown",
   "metadata": {
    "id": "6vI1qoYX-e__"
   },
   "source": [
    "Mejor resultado Random Forest"
   ]
  },
  {
   "cell_type": "raw",
   "metadata": {
    "colab": {
     "base_uri": "https://localhost:8080/",
     "height": 112
    },
    "id": "8ifqbv55a4wU",
    "outputId": "28b613b0-ad43-488a-d42a-75f39432b69e"
   },
   "source": [
    "arboles = [50]\n",
    "variables_seleccion = [5]\n",
    "resultados_rf, matrixRF = random_forest(arboles, variables_seleccion, X, Y)\n",
    "resultados_rf"
   ]
  },
  {
   "cell_type": "markdown",
   "metadata": {
    "id": "0hp4wg2d-UAP"
   },
   "source": [
    "Matriz de confusión Random Forest"
   ]
  },
  {
   "cell_type": "code",
   "execution_count": 23,
   "metadata": {
    "colab": {
     "base_uri": "https://localhost:8080/",
     "height": 330
    },
    "id": "3cO-hUU1Z1gp",
    "outputId": "305e44e4-4a41-4843-9db5-51cf5b70ab4f"
   },
   "outputs": [
    {
     "name": "stdout",
     "output_type": "stream",
     "text": [
      "[[0.9842956  0.0157044 ]\n",
      " [0.84954545 0.15045455]]\n"
     ]
    },
    {
     "data": {
      "image/png": "[encoded data removed]",
      "text/plain": [
       "<Figure size 432x288 with 2 Axes>"
      ]
     },
     "metadata": {
      "needs_background": "light"
     },
     "output_type": "display_data"
    }
   ],
   "source": [
    "calcularMatrizCF(matrixRF, \"Matriz de confusión RF\")"
   ]
  },
  {
   "cell_type": "code",
   "execution_count": null,
   "metadata": {},
   "outputs": [],
   "source": []
  }
 ],
 "metadata": {
  "colab": {
   "collapsed_sections": [],
   "name": "Proyecto final.ipynb",
   "provenance": [],
   "toc_visible": true
  },
  "kernelspec": {
   "display_name": "Python 3 (ipykernel)",
   "language": "python",
   "name": "python3"
  },
  "language_info": {
   "codemirror_mode": {
    "name": "ipython",
    "version": 3
   },
   "file_extension": ".py",
   "mimetype": "text/x-python",
   "name": "python",
   "nbconvert_exporter": "python",
   "pygments_lexer": "ipython3",
   "version": "3.9.12"
  }
 },
 "nbformat": 4,
 "nbformat_minor": 4
}
